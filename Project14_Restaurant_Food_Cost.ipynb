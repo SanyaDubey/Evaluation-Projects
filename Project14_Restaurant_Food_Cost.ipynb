{
 "cells": [
  {
   "cell_type": "markdown",
   "metadata": {},
   "source": [
    "The dataset has 2 files - train and test which are explored individually here."
   ]
  },
  {
   "cell_type": "code",
   "execution_count": 2,
   "metadata": {},
   "outputs": [],
   "source": [
    "# Importing the necessary libraries.\n",
    "\n",
    "import pandas as pd\n",
    "import numpy as np\n",
    "import matplotlib.pyplot as plt\n",
    "%matplotlib inline\n",
    "import seaborn as sns\n",
    "import warnings\n",
    "warnings.filterwarnings('ignore')"
   ]
  },
  {
   "cell_type": "code",
   "execution_count": 3,
   "metadata": {},
   "outputs": [
    {
     "data": {
      "text/html": [
       "<div>\n",
       "<style scoped>\n",
       "    .dataframe tbody tr th:only-of-type {\n",
       "        vertical-align: middle;\n",
       "    }\n",
       "\n",
       "    .dataframe tbody tr th {\n",
       "        vertical-align: top;\n",
       "    }\n",
       "\n",
       "    .dataframe thead th {\n",
       "        text-align: right;\n",
       "    }\n",
       "</style>\n",
       "<table border=\"1\" class=\"dataframe\">\n",
       "  <thead>\n",
       "    <tr style=\"text-align: right;\">\n",
       "      <th></th>\n",
       "      <th>TITLE</th>\n",
       "      <th>RESTAURANT_ID</th>\n",
       "      <th>CUISINES</th>\n",
       "      <th>TIME</th>\n",
       "      <th>CITY</th>\n",
       "      <th>LOCALITY</th>\n",
       "      <th>RATING</th>\n",
       "      <th>VOTES</th>\n",
       "      <th>COST</th>\n",
       "    </tr>\n",
       "  </thead>\n",
       "  <tbody>\n",
       "    <tr>\n",
       "      <th>0</th>\n",
       "      <td>CASUAL DINING</td>\n",
       "      <td>9438</td>\n",
       "      <td>Malwani, Goan, North Indian</td>\n",
       "      <td>11am – 4pm, 7:30pm – 11:30pm (Mon-Sun)</td>\n",
       "      <td>Thane</td>\n",
       "      <td>Dombivali East</td>\n",
       "      <td>3.6</td>\n",
       "      <td>49 votes</td>\n",
       "      <td>1200</td>\n",
       "    </tr>\n",
       "    <tr>\n",
       "      <th>1</th>\n",
       "      <td>CASUAL DINING,BAR</td>\n",
       "      <td>13198</td>\n",
       "      <td>Asian, Modern Indian, Japanese</td>\n",
       "      <td>6pm – 11pm (Mon-Sun)</td>\n",
       "      <td>Chennai</td>\n",
       "      <td>Ramapuram</td>\n",
       "      <td>4.2</td>\n",
       "      <td>30 votes</td>\n",
       "      <td>1500</td>\n",
       "    </tr>\n",
       "    <tr>\n",
       "      <th>2</th>\n",
       "      <td>CASUAL DINING</td>\n",
       "      <td>10915</td>\n",
       "      <td>North Indian, Chinese, Biryani, Hyderabadi</td>\n",
       "      <td>11am – 3:30pm, 7pm – 11pm (Mon-Sun)</td>\n",
       "      <td>Chennai</td>\n",
       "      <td>Saligramam</td>\n",
       "      <td>3.8</td>\n",
       "      <td>221 votes</td>\n",
       "      <td>800</td>\n",
       "    </tr>\n",
       "    <tr>\n",
       "      <th>3</th>\n",
       "      <td>QUICK BITES</td>\n",
       "      <td>6346</td>\n",
       "      <td>Tibetan, Chinese</td>\n",
       "      <td>11:30am – 1am (Mon-Sun)</td>\n",
       "      <td>Mumbai</td>\n",
       "      <td>Bandra West</td>\n",
       "      <td>4.1</td>\n",
       "      <td>24 votes</td>\n",
       "      <td>800</td>\n",
       "    </tr>\n",
       "    <tr>\n",
       "      <th>4</th>\n",
       "      <td>DESSERT PARLOR</td>\n",
       "      <td>15387</td>\n",
       "      <td>Desserts</td>\n",
       "      <td>11am – 1am (Mon-Sun)</td>\n",
       "      <td>Mumbai</td>\n",
       "      <td>Lower Parel</td>\n",
       "      <td>3.8</td>\n",
       "      <td>165 votes</td>\n",
       "      <td>300</td>\n",
       "    </tr>\n",
       "  </tbody>\n",
       "</table>\n",
       "</div>"
      ],
      "text/plain": [
       "               TITLE  RESTAURANT_ID  \\\n",
       "0      CASUAL DINING           9438   \n",
       "1  CASUAL DINING,BAR          13198   \n",
       "2      CASUAL DINING          10915   \n",
       "3        QUICK BITES           6346   \n",
       "4     DESSERT PARLOR          15387   \n",
       "\n",
       "                                     CUISINES  \\\n",
       "0                 Malwani, Goan, North Indian   \n",
       "1              Asian, Modern Indian, Japanese   \n",
       "2  North Indian, Chinese, Biryani, Hyderabadi   \n",
       "3                            Tibetan, Chinese   \n",
       "4                                    Desserts   \n",
       "\n",
       "                                     TIME     CITY        LOCALITY RATING  \\\n",
       "0  11am – 4pm, 7:30pm – 11:30pm (Mon-Sun)    Thane  Dombivali East    3.6   \n",
       "1                    6pm – 11pm (Mon-Sun)  Chennai       Ramapuram    4.2   \n",
       "2     11am – 3:30pm, 7pm – 11pm (Mon-Sun)  Chennai      Saligramam    3.8   \n",
       "3                 11:30am – 1am (Mon-Sun)   Mumbai     Bandra West    4.1   \n",
       "4                    11am – 1am (Mon-Sun)   Mumbai     Lower Parel    3.8   \n",
       "\n",
       "       VOTES  COST  \n",
       "0   49 votes  1200  \n",
       "1   30 votes  1500  \n",
       "2  221 votes   800  \n",
       "3   24 votes   800  \n",
       "4  165 votes   300  "
      ]
     },
     "execution_count": 3,
     "metadata": {},
     "output_type": "execute_result"
    }
   ],
   "source": [
    "# Loading the train data.\n",
    "\n",
    "food_train = pd.read_excel('restraunt_food_Train.xlsx')\n",
    "food_train.head()"
   ]
  },
  {
   "cell_type": "code",
   "execution_count": 4,
   "metadata": {},
   "outputs": [
    {
     "data": {
      "text/html": [
       "<div>\n",
       "<style scoped>\n",
       "    .dataframe tbody tr th:only-of-type {\n",
       "        vertical-align: middle;\n",
       "    }\n",
       "\n",
       "    .dataframe tbody tr th {\n",
       "        vertical-align: top;\n",
       "    }\n",
       "\n",
       "    .dataframe thead th {\n",
       "        text-align: right;\n",
       "    }\n",
       "</style>\n",
       "<table border=\"1\" class=\"dataframe\">\n",
       "  <thead>\n",
       "    <tr style=\"text-align: right;\">\n",
       "      <th></th>\n",
       "      <th>TITLE</th>\n",
       "      <th>RESTAURANT_ID</th>\n",
       "      <th>CUISINES</th>\n",
       "      <th>TIME</th>\n",
       "      <th>CITY</th>\n",
       "      <th>LOCALITY</th>\n",
       "      <th>RATING</th>\n",
       "      <th>VOTES</th>\n",
       "    </tr>\n",
       "  </thead>\n",
       "  <tbody>\n",
       "    <tr>\n",
       "      <th>0</th>\n",
       "      <td>CASUAL DINING</td>\n",
       "      <td>4085</td>\n",
       "      <td>North Indian, Chinese, Mughlai, Kebab</td>\n",
       "      <td>12noon – 12midnight (Mon-Sun)</td>\n",
       "      <td>Noida</td>\n",
       "      <td>Sector 18</td>\n",
       "      <td>4.3</td>\n",
       "      <td>564 votes</td>\n",
       "    </tr>\n",
       "    <tr>\n",
       "      <th>1</th>\n",
       "      <td>QUICK BITES</td>\n",
       "      <td>12680</td>\n",
       "      <td>South Indian, Fast Food, Pizza, North Indian</td>\n",
       "      <td>7am – 12:30AM (Mon-Sun)</td>\n",
       "      <td>Mumbai</td>\n",
       "      <td>Grant Road</td>\n",
       "      <td>4.2</td>\n",
       "      <td>61 votes</td>\n",
       "    </tr>\n",
       "    <tr>\n",
       "      <th>2</th>\n",
       "      <td>CASUAL DINING</td>\n",
       "      <td>1411</td>\n",
       "      <td>North Indian, Seafood, Biryani, Chinese</td>\n",
       "      <td>11am – 11:30pm (Mon-Sun)</td>\n",
       "      <td>Mumbai</td>\n",
       "      <td>Marine Lines</td>\n",
       "      <td>3.8</td>\n",
       "      <td>350 votes</td>\n",
       "    </tr>\n",
       "    <tr>\n",
       "      <th>3</th>\n",
       "      <td>None</td>\n",
       "      <td>204</td>\n",
       "      <td>Biryani</td>\n",
       "      <td>9am – 10pm (Mon, Wed, Thu, Fri, Sat, Sun), 10:...</td>\n",
       "      <td>Faridabad</td>\n",
       "      <td>NIT</td>\n",
       "      <td>3.8</td>\n",
       "      <td>1445 votes</td>\n",
       "    </tr>\n",
       "    <tr>\n",
       "      <th>4</th>\n",
       "      <td>QUICK BITES</td>\n",
       "      <td>13453</td>\n",
       "      <td>South Indian, Kerala</td>\n",
       "      <td>11am – 10pm (Mon-Sun)</td>\n",
       "      <td>Kochi</td>\n",
       "      <td>Kaloor</td>\n",
       "      <td>3.6</td>\n",
       "      <td>23 votes</td>\n",
       "    </tr>\n",
       "  </tbody>\n",
       "</table>\n",
       "</div>"
      ],
      "text/plain": [
       "           TITLE  RESTAURANT_ID                                      CUISINES  \\\n",
       "0  CASUAL DINING           4085         North Indian, Chinese, Mughlai, Kebab   \n",
       "1    QUICK BITES          12680  South Indian, Fast Food, Pizza, North Indian   \n",
       "2  CASUAL DINING           1411       North Indian, Seafood, Biryani, Chinese   \n",
       "3           None            204                                       Biryani   \n",
       "4    QUICK BITES          13453                          South Indian, Kerala   \n",
       "\n",
       "                                                TIME       CITY      LOCALITY  \\\n",
       "0                      12noon – 12midnight (Mon-Sun)      Noida     Sector 18   \n",
       "1                            7am – 12:30AM (Mon-Sun)     Mumbai    Grant Road   \n",
       "2                           11am – 11:30pm (Mon-Sun)     Mumbai  Marine Lines   \n",
       "3  9am – 10pm (Mon, Wed, Thu, Fri, Sat, Sun), 10:...  Faridabad           NIT   \n",
       "4                              11am – 10pm (Mon-Sun)      Kochi        Kaloor   \n",
       "\n",
       "  RATING       VOTES  \n",
       "0    4.3   564 votes  \n",
       "1    4.2    61 votes  \n",
       "2    3.8   350 votes  \n",
       "3    3.8  1445 votes  \n",
       "4    3.6    23 votes  "
      ]
     },
     "execution_count": 4,
     "metadata": {},
     "output_type": "execute_result"
    }
   ],
   "source": [
    "# Loading the test data.\n",
    "\n",
    "food_test = pd.read_excel('restraunt_food_Test.xlsx')\n",
    "food_test.head()"
   ]
  },
  {
   "cell_type": "code",
   "execution_count": 5,
   "metadata": {},
   "outputs": [
    {
     "name": "stdout",
     "output_type": "stream",
     "text": [
      "Shape of Train data : (12690, 9)\n",
      "Shape of Test data : (4231, 8)\n"
     ]
    }
   ],
   "source": [
    "# Let's check the shape of train and test dataset.\n",
    "\n",
    "print(\"Shape of Train data :\", food_train.shape)\n",
    "print(\"Shape of Test data :\",food_test.shape)"
   ]
  },
  {
   "cell_type": "code",
   "execution_count": 6,
   "metadata": {},
   "outputs": [
    {
     "name": "stdout",
     "output_type": "stream",
     "text": [
      "---TRAIN DATA--- \n",
      " TITLE            object\n",
      "RESTAURANT_ID     int64\n",
      "CUISINES         object\n",
      "TIME             object\n",
      "CITY             object\n",
      "LOCALITY         object\n",
      "RATING           object\n",
      "VOTES            object\n",
      "COST              int64\n",
      "dtype: object\n",
      "\n",
      "\n",
      "---TEST DATA--- \n",
      " TITLE            object\n",
      "RESTAURANT_ID     int64\n",
      "CUISINES         object\n",
      "TIME             object\n",
      "CITY             object\n",
      "LOCALITY         object\n",
      "RATING           object\n",
      "VOTES            object\n",
      "dtype: object\n"
     ]
    }
   ],
   "source": [
    "# Let's check the data types of each feature of train and test data.\n",
    "\n",
    "print(\"---TRAIN DATA--- \\n\", food_train.dtypes)\n",
    "print(\"\\n\")\n",
    "print(\"---TEST DATA--- \\n\", food_test.dtypes)"
   ]
  },
  {
   "cell_type": "markdown",
   "metadata": {},
   "source": [
    "The whole data is of string nature except for the target variable and 'RESTAURANT_ID' which is of integer type having 12690 rows andd 9 columns in train dataset and 4231 rows and 8 columns in the test dataset as it does not include target variable. The attributes to predict the cost for food are described below."
   ]
  },
  {
   "cell_type": "raw",
   "metadata": {},
   "source": [
    "TITLE          : The feature of the restaurant which can help identify what and for whom it is suitable for.\n",
    "RESTAURANT_ID  : A unique ID for each restaurant.\n",
    "CUISINES       : The variety of cuisines that the restaurant offers.\n",
    "TIME           : The open hours of the restaurant.\n",
    "CITY           : The city in which the restaurant is located.\n",
    "LOCALITY       : The locality of the restaurant.\n",
    "RATING         : The average rating of the restaurant by customers.\n",
    "VOTES          : The overall votes received by the restaurant.\n",
    "COST           : The average cost of a two-person meal."
   ]
  },
  {
   "cell_type": "markdown",
   "metadata": {},
   "source": [
    "# Handling Null Values"
   ]
  },
  {
   "cell_type": "code",
   "execution_count": 7,
   "metadata": {},
   "outputs": [
    {
     "name": "stdout",
     "output_type": "stream",
     "text": [
      "---TRAIN DATA--- \n",
      " TITLE               0\n",
      "RESTAURANT_ID       0\n",
      "CUISINES            0\n",
      "TIME                0\n",
      "CITY              112\n",
      "LOCALITY           98\n",
      "RATING              2\n",
      "VOTES            1204\n",
      "COST                0\n",
      "dtype: int64 \n",
      "\n",
      "---TEST DATA--- \n",
      " TITLE              0\n",
      "RESTAURANT_ID      0\n",
      "CUISINES           0\n",
      "TIME               0\n",
      "CITY              35\n",
      "LOCALITY          30\n",
      "RATING             2\n",
      "VOTES            402\n",
      "dtype: int64\n"
     ]
    }
   ],
   "source": [
    "# Let's check the null values of train data.\n",
    "\n",
    "print(\"---TRAIN DATA--- \\n\",food_train.isnull().sum(), '\\n')\n",
    "print(\"---TEST DATA--- \\n\",food_test.isnull().sum())"
   ]
  },
  {
   "cell_type": "code",
   "execution_count": 8,
   "metadata": {},
   "outputs": [
    {
     "data": {
      "text/plain": [
       "<matplotlib.axes._subplots.AxesSubplot at 0x1706e5f6f08>"
      ]
     },
     "execution_count": 8,
     "metadata": {},
     "output_type": "execute_result"
    },
    {
     "data": {
      "image/png": "[encoded data removed]",
      "text/plain": [
       "<Figure size 576x432 with 2 Axes>"
      ]
     },
     "metadata": {
      "needs_background": "light"
     },
     "output_type": "display_data"
    }
   ],
   "source": [
    "# Visualizing the null values of train data using heatmap.\n",
    "\n",
    "plt.figure(figsize=(8,6))\n",
    "\n",
    "sns.heatmap(food_train.isnull(), cmap = 'BuPu_r')"
   ]
  },
  {
   "cell_type": "code",
   "execution_count": 9,
   "metadata": {},
   "outputs": [
    {
     "data": {
      "text/plain": [
       "<matplotlib.axes._subplots.AxesSubplot at 0x1706e6b4208>"
      ]
     },
     "execution_count": 9,
     "metadata": {},
     "output_type": "execute_result"
    },
    {
     "data": {
      "image/png": "[encoded data removed]",
      "text/plain": [
       "<Figure size 576x432 with 2 Axes>"
      ]
     },
     "metadata": {
      "needs_background": "light"
     },
     "output_type": "display_data"
    }
   ],
   "source": [
    "# Visualizing the null values of test data using heatmap.\n",
    "\n",
    "plt.figure(figsize=(8,6))\n",
    "sns.heatmap(food_test.isnull(), cmap = 'BuPu_r')"
   ]
  },
  {
   "cell_type": "markdown",
   "metadata": {},
   "source": [
    "In both train8ng and testing dataset the null values are present in 'CITY', 'LOCALITY', 'RATING' and 'VOTES'."
   ]
  },
  {
   "cell_type": "code",
   "execution_count": 10,
   "metadata": {
    "scrolled": true
   },
   "outputs": [
    {
     "name": "stdout",
     "output_type": "stream",
     "text": [
      "Mode of RATING of Test Data: 0    3.9\n",
      "dtype: object \n",
      "\n",
      "Mode of VOTES Test Data: 0    44 votes\n",
      "dtype: object \n",
      "\n",
      "Mode of RATING of Test Data: 0    3.8\n",
      "dtype: object \n",
      "\n",
      "Mode of VOTES Test Data: 0    6 votes\n",
      "dtype: object \n",
      "\n"
     ]
    }
   ],
   "source": [
    "# Let's check the mode of the Rating and Votes for both train annd test dataset.\n",
    "\n",
    "rating_mode = food_train['RATING'].mode()\n",
    "print(\"Mode of RATING of Test Data:\", rating_mode,'\\n')\n",
    "\n",
    "vote_mode = food_train['VOTES'].mode()\n",
    "print(\"Mode of VOTES Test Data:\", vote_mode,'\\n')\n",
    "\n",
    "\n",
    "RATING_mode = food_test['RATING'].mode()\n",
    "print(\"Mode of RATING of Test Data:\", RATING_mode,'\\n')\n",
    "\n",
    "VOTES_mode = food_test['VOTES'].mode()\n",
    "print(\"Mode of VOTES Test Data:\", VOTES_mode,'\\n')"
   ]
  },
  {
   "cell_type": "code",
   "execution_count": 11,
   "metadata": {},
   "outputs": [],
   "source": [
    "# Replacing the null values with the mode of the respective column.\n",
    "\n",
    "# Train data\n",
    "food_train.CITY = food_train.CITY.fillna('Not_Known')\n",
    "food_train.LOCALITY = food_train.LOCALITY.fillna('Not_Known')\n",
    "food_train.RATING = food_train.RATING.fillna('3.9')\n",
    "food_train.VOTES = food_train.VOTES.fillna('44 votes')\n",
    "\n",
    "# Test data\n",
    "food_test.CITY = food_test.CITY.fillna('Not_Known')\n",
    "food_test.LOCALITY = food_test.LOCALITY.fillna('Not_Known')\n",
    "food_test.RATING = food_test.RATING.fillna('3.8')\n",
    "food_test.VOTES = food_test.VOTES.fillna('6 votes')"
   ]
  },
  {
   "cell_type": "code",
   "execution_count": 12,
   "metadata": {},
   "outputs": [
    {
     "name": "stdout",
     "output_type": "stream",
     "text": [
      "---TRAIN DATA--- \n",
      " TITLE            0\n",
      "RESTAURANT_ID    0\n",
      "CUISINES         0\n",
      "TIME             0\n",
      "CITY             0\n",
      "LOCALITY         0\n",
      "RATING           0\n",
      "VOTES            0\n",
      "COST             0\n",
      "dtype: int64 \n",
      "\n",
      "---TEST DATA--- \n",
      " TITLE            0\n",
      "RESTAURANT_ID    0\n",
      "CUISINES         0\n",
      "TIME             0\n",
      "CITY             0\n",
      "LOCALITY         0\n",
      "RATING           0\n",
      "VOTES            0\n",
      "dtype: int64\n"
     ]
    },
    {
     "data": {
      "text/plain": [
       "<matplotlib.axes._subplots.AxesSubplot at 0x1706e455508>"
      ]
     },
     "execution_count": 12,
     "metadata": {},
     "output_type": "execute_result"
    },
    {
     "data": {
      "image/png": "[encoded data removed]",
      "text/plain": [
       "<Figure size 432x288 with 2 Axes>"
      ]
     },
     "metadata": {
      "needs_background": "light"
     },
     "output_type": "display_data"
    }
   ],
   "source": [
    "# Again checking the null values after filling the same.\n",
    "\n",
    "print(\"---TRAIN DATA--- \\n\",food_train.isnull().sum(), '\\n')\n",
    "print(\"---TEST DATA--- \\n\",food_test.isnull().sum())\n",
    "\n",
    "sns.heatmap(food_train.isnull(), cmap = 'BuPu_r')"
   ]
  },
  {
   "cell_type": "code",
   "execution_count": 13,
   "metadata": {},
   "outputs": [
    {
     "data": {
      "text/plain": [
       "<matplotlib.axes._subplots.AxesSubplot at 0x1706e5ffe88>"
      ]
     },
     "execution_count": 13,
     "metadata": {},
     "output_type": "execute_result"
    },
    {
     "data": {
      "image/png": "[encoded data removed]",
      "text/plain": [
       "<Figure size 432x288 with 2 Axes>"
      ]
     },
     "metadata": {
      "needs_background": "light"
     },
     "output_type": "display_data"
    }
   ],
   "source": [
    "sns.heatmap(food_test.isnull(), cmap = 'BuPu_r')"
   ]
  },
  {
   "cell_type": "markdown",
   "metadata": {},
   "source": [
    "So, all the null values have been filled."
   ]
  },
  {
   "cell_type": "code",
   "execution_count": 14,
   "metadata": {},
   "outputs": [
    {
     "data": {
      "text/plain": [
       "<matplotlib.axes._subplots.AxesSubplot at 0x1706e3d6208>"
      ]
     },
     "execution_count": 14,
     "metadata": {},
     "output_type": "execute_result"
    },
    {
     "data": {
      "image/png": "[encoded data removed]",
      "text/plain": [
       "<Figure size 576x432 with 1 Axes>"
      ]
     },
     "metadata": {
      "needs_background": "light"
     },
     "output_type": "display_data"
    }
   ],
   "source": [
    "# Visualizing the distribution of target variable.\n",
    "\n",
    "plt.figure(figsize=(8,6))\n",
    "sns.set_style('whitegrid')\n",
    "sns.distplot(food_train['COST'], color = 'darkblue')"
   ]
  },
  {
   "cell_type": "markdown",
   "metadata": {},
   "source": [
    "# Handling the Object type data"
   ]
  },
  {
   "cell_type": "code",
   "execution_count": 15,
   "metadata": {},
   "outputs": [
    {
     "data": {
      "text/html": [
       "<div>\n",
       "<style scoped>\n",
       "    .dataframe tbody tr th:only-of-type {\n",
       "        vertical-align: middle;\n",
       "    }\n",
       "\n",
       "    .dataframe tbody tr th {\n",
       "        vertical-align: top;\n",
       "    }\n",
       "\n",
       "    .dataframe thead th {\n",
       "        text-align: right;\n",
       "    }\n",
       "</style>\n",
       "<table border=\"1\" class=\"dataframe\">\n",
       "  <thead>\n",
       "    <tr style=\"text-align: right;\">\n",
       "      <th></th>\n",
       "      <th>TITLE</th>\n",
       "      <th>CUISINES</th>\n",
       "      <th>TIME</th>\n",
       "      <th>CITY</th>\n",
       "      <th>LOCALITY</th>\n",
       "      <th>RATING</th>\n",
       "      <th>VOTES</th>\n",
       "    </tr>\n",
       "  </thead>\n",
       "  <tbody>\n",
       "    <tr>\n",
       "      <th>0</th>\n",
       "      <td>CASUAL DINING</td>\n",
       "      <td>Malwani, Goan, North Indian</td>\n",
       "      <td>11am – 4pm, 7:30pm – 11:30pm (Mon-Sun)</td>\n",
       "      <td>Thane</td>\n",
       "      <td>Dombivali East</td>\n",
       "      <td>3.6</td>\n",
       "      <td>49 votes</td>\n",
       "    </tr>\n",
       "    <tr>\n",
       "      <th>1</th>\n",
       "      <td>CASUAL DINING,BAR</td>\n",
       "      <td>Asian, Modern Indian, Japanese</td>\n",
       "      <td>6pm – 11pm (Mon-Sun)</td>\n",
       "      <td>Chennai</td>\n",
       "      <td>Ramapuram</td>\n",
       "      <td>4.2</td>\n",
       "      <td>30 votes</td>\n",
       "    </tr>\n",
       "    <tr>\n",
       "      <th>2</th>\n",
       "      <td>CASUAL DINING</td>\n",
       "      <td>North Indian, Chinese, Biryani, Hyderabadi</td>\n",
       "      <td>11am – 3:30pm, 7pm – 11pm (Mon-Sun)</td>\n",
       "      <td>Chennai</td>\n",
       "      <td>Saligramam</td>\n",
       "      <td>3.8</td>\n",
       "      <td>221 votes</td>\n",
       "    </tr>\n",
       "    <tr>\n",
       "      <th>3</th>\n",
       "      <td>QUICK BITES</td>\n",
       "      <td>Tibetan, Chinese</td>\n",
       "      <td>11:30am – 1am (Mon-Sun)</td>\n",
       "      <td>Mumbai</td>\n",
       "      <td>Bandra West</td>\n",
       "      <td>4.1</td>\n",
       "      <td>24 votes</td>\n",
       "    </tr>\n",
       "    <tr>\n",
       "      <th>4</th>\n",
       "      <td>DESSERT PARLOR</td>\n",
       "      <td>Desserts</td>\n",
       "      <td>11am – 1am (Mon-Sun)</td>\n",
       "      <td>Mumbai</td>\n",
       "      <td>Lower Parel</td>\n",
       "      <td>3.8</td>\n",
       "      <td>165 votes</td>\n",
       "    </tr>\n",
       "  </tbody>\n",
       "</table>\n",
       "</div>"
      ],
      "text/plain": [
       "               TITLE                                    CUISINES  \\\n",
       "0      CASUAL DINING                 Malwani, Goan, North Indian   \n",
       "1  CASUAL DINING,BAR              Asian, Modern Indian, Japanese   \n",
       "2      CASUAL DINING  North Indian, Chinese, Biryani, Hyderabadi   \n",
       "3        QUICK BITES                            Tibetan, Chinese   \n",
       "4     DESSERT PARLOR                                    Desserts   \n",
       "\n",
       "                                     TIME     CITY        LOCALITY RATING  \\\n",
       "0  11am – 4pm, 7:30pm – 11:30pm (Mon-Sun)    Thane  Dombivali East    3.6   \n",
       "1                    6pm – 11pm (Mon-Sun)  Chennai       Ramapuram    4.2   \n",
       "2     11am – 3:30pm, 7pm – 11pm (Mon-Sun)  Chennai      Saligramam    3.8   \n",
       "3                 11:30am – 1am (Mon-Sun)   Mumbai     Bandra West    4.1   \n",
       "4                    11am – 1am (Mon-Sun)   Mumbai     Lower Parel    3.8   \n",
       "\n",
       "       VOTES  \n",
       "0   49 votes  \n",
       "1   30 votes  \n",
       "2  221 votes  \n",
       "3   24 votes  \n",
       "4  165 votes  "
      ]
     },
     "execution_count": 15,
     "metadata": {},
     "output_type": "execute_result"
    }
   ],
   "source": [
    "# Let's check the string data from the train dataset.\n",
    "\n",
    "food_obj = food_train.select_dtypes(include='object')\n",
    "food_obj.head()"
   ]
  },
  {
   "cell_type": "code",
   "execution_count": 16,
   "metadata": {},
   "outputs": [
    {
     "name": "stdout",
     "output_type": "stream",
     "text": [
      "-------- TITLE --------\n",
      " QUICK BITES                  4218\n",
      "CASUAL DINING                3652\n",
      "None                         1003\n",
      "CAFÉ                          607\n",
      "DESSERT PARLOR                382\n",
      "                             ... \n",
      "BAKERY,BEVERAGE SHOP            1\n",
      "DESSERT PARLOR,PAAN SHOP        1\n",
      "CASUAL DINING,FOOD COURT        1\n",
      "QUICK BITES,FOOD TRUCK          1\n",
      "CONFECTIONERY,QUICK BITES       1\n",
      "Name: TITLE, Length: 113, dtype: int64\n",
      "\n",
      "\n",
      "-------- CUISINES --------\n",
      " South Indian                                           532\n",
      "North Indian                                           526\n",
      "North Indian, Chinese                                  501\n",
      "Fast Food                                              286\n",
      "Chinese                                                167\n",
      "                                                      ... \n",
      "Continental, American, Chinese, BBQ, Salad, Italian      1\n",
      "Beverages, Sandwich, Fast Food                           1\n",
      "Andhra, Seafood, Biryani                                 1\n",
      "Biryani, North Indian, Mughlai, Chinese                  1\n",
      "Burger, Wraps, Pizza                                     1\n",
      "Name: CUISINES, Length: 4155, dtype: int64\n",
      "\n",
      "\n",
      "-------- TIME --------\n",
      " 11am – 11pm (Mon-Sun)                                1415\n",
      "12noon – 12midnight (Mon-Sun)                         469\n",
      "12noon – 11pm (Mon-Sun)                               407\n",
      "11am – 12midnight (Mon-Sun)                           310\n",
      "10am – 10pm (Mon-Sun)                                 221\n",
      "                                                     ... \n",
      "11:30am – 3:30pm (Mon-Sun)                              1\n",
      "8:30am – 9pm (Mon),8am – 9pm (Tue-Fri),Closed...        1\n",
      "12noon – 11:30pm (Mon, Sun), 12:30pm – 11:30pm...       1\n",
      "7:30am – 1pm, 5pm – 10pm (Mon-Sun)                      1\n",
      "Closed (Mon),11am – 8:30pm (Tue-Sun)                    1\n",
      "Name: TIME, Length: 2689, dtype: int64\n",
      "\n",
      "\n",
      "-------- CITY --------\n",
      " Chennai        2174\n",
      "Bangalore      2149\n",
      "Hyderabad      1819\n",
      "Mumbai         1722\n",
      "New Delhi      1321\n",
      "               ... \n",
      "Mogappair         1\n",
      "Faridabd          1\n",
      "Vadapalani.       1\n",
      "682036            1\n",
      "GST Road          1\n",
      "Name: CITY, Length: 360, dtype: int64\n",
      "\n",
      "\n",
      "-------- LOCALITY --------\n",
      " Gachibowli                                                 166\n",
      "Indiranagar                                                138\n",
      "Edappally                                                  122\n",
      "Kakkanad                                                   121\n",
      "HSR                                                        120\n",
      "                                                          ... \n",
      "Triplicane High Road                                         1\n",
      "New Shopping Complex                                         1\n",
      "Opposite Kotak Mahindra Bank Next To Woodland Furniture      1\n",
      "Koramangala 6 Block                                          1\n",
      "Kerala 682010                                                1\n",
      "Name: LOCALITY, Length: 1417, dtype: int64\n",
      "\n",
      "\n",
      "-------- RATING --------\n",
      " 3.9    1240\n",
      "3.8    1190\n",
      "4.0    1099\n",
      "3.7    1086\n",
      "3.6     951\n",
      "4.1     936\n",
      "3.5     771\n",
      "4.2     723\n",
      "NEW     707\n",
      "3.4     575\n",
      "4.3     556\n",
      "-       495\n",
      "3.3     365\n",
      "4.4     362\n",
      "3.2     266\n",
      "4.5     199\n",
      "2.9     186\n",
      "3.1     186\n",
      "3.0     170\n",
      "2.8     146\n",
      "4.6     141\n",
      "2.7      89\n",
      "4.7      69\n",
      "2.6      61\n",
      "2.5      35\n",
      "4.8      32\n",
      "4.9      22\n",
      "2.4      15\n",
      "2.3      10\n",
      "2.1       3\n",
      "2.2       2\n",
      "2.0       2\n",
      "Name: RATING, dtype: int64\n",
      "\n",
      "\n",
      "-------- VOTES --------\n",
      " 44 votes       1275\n",
      "29 votes         66\n",
      "28 votes         66\n",
      "38 votes         65\n",
      "35 votes         64\n",
      "               ... \n",
      "2021 votes        1\n",
      "1544 votes        1\n",
      "1326 votes        1\n",
      "6457 votes        1\n",
      "41186 votes       1\n",
      "Name: VOTES, Length: 1847, dtype: int64\n",
      "\n",
      "\n"
     ]
    }
   ],
   "source": [
    "# Let's check  the value counts of each categorical feature.\n",
    "\n",
    "for i in food_obj.columns:\n",
    "    x = food_obj[i].value_counts()\n",
    "    print(\"--------\",i,\"--------\\n\",x)\n",
    "    print('\\n')"
   ]
  },
  {
   "cell_type": "code",
   "execution_count": 17,
   "metadata": {},
   "outputs": [
    {
     "name": "stdout",
     "output_type": "stream",
     "text": [
      "-------- TITLE --------\n",
      " QUICK BITES                   1416\n",
      "CASUAL DINING                 1258\n",
      "None                           284\n",
      "CAFÉ                           223\n",
      "DESSERT PARLOR                 126\n",
      "                              ... \n",
      "PUB,CAFÉ                         1\n",
      "FOOD TRUCK,DESSERT PARLOR        1\n",
      "COCKTAIL BAR,CASUAL DINING       1\n",
      "QUICK BITES,MEAT SHOP            1\n",
      "CASUAL DINING,LOUNGE             1\n",
      "Name: TITLE, Length: 86, dtype: int64\n",
      "\n",
      "\n",
      "-------- RESTAURANT_ID --------\n",
      " 12799    3\n",
      "15454    3\n",
      "4262     3\n",
      "11169    3\n",
      "1619     3\n",
      "        ..\n",
      "9598     1\n",
      "11432    1\n",
      "3451     1\n",
      "5496     1\n",
      "10241    1\n",
      "Name: RESTAURANT_ID, Length: 4127, dtype: int64\n",
      "\n",
      "\n",
      "-------- CUISINES --------\n",
      " North Indian, Chinese                            213\n",
      "North Indian                                     190\n",
      "South Indian                                     174\n",
      "Fast Food                                         78\n",
      "Chinese                                           59\n",
      "                                                ... \n",
      "North Indian, Maharashtrian                        1\n",
      "Burger, Fast Food, Beverages                       1\n",
      "Fast Food, Bakery, Chinese                         1\n",
      "Continental, Chinese, Thai                         1\n",
      "North Indian, Awadhi, Kebab, Biryani, Italian      1\n",
      "Name: CUISINES, Length: 1727, dtype: int64\n",
      "\n",
      "\n",
      "-------- TIME --------\n",
      " 11am – 11pm (Mon-Sun)                                 447\n",
      "12noon – 12midnight (Mon-Sun)                         146\n",
      "12noon – 11pm (Mon-Sun)                               134\n",
      "11am – 12midnight (Mon-Sun)                           109\n",
      "10am – 11pm (Mon-Sun)                                  74\n",
      "                                                     ... \n",
      "12:30pm – 9:30pm (Mon-Sun)                              1\n",
      "12noon – 1am (Mon, Wed, Thu), 12noon – 1:30am...        1\n",
      "12noon – 3:30am (Mon-Sun)                               1\n",
      "6pm – 11pm (Mon, Tue, Wed, Thu, Sun), 6pm – 1am...      1\n",
      "5am – 10:30pm (Mon-Sun)                                 1\n",
      "Name: TIME, Length: 1183, dtype: int64\n",
      "\n",
      "\n",
      "-------- CITY --------\n",
      " Bangalore                  686\n",
      "Chennai                    681\n",
      "Hyderabad                  639\n",
      "Mumbai                     589\n",
      "Kochi                      472\n",
      "                          ... \n",
      "Sholinganallur. Chennai      1\n",
      "Kochi Panampilly Nagar       1\n",
      "Chenna                       1\n",
      "Karnataka                    1\n",
      "Marad                        1\n",
      "Name: CITY, Length: 152, dtype: int64\n",
      "\n",
      "\n",
      "-------- LOCALITY --------\n",
      " Kukatpally           54\n",
      "Kakkanad             54\n",
      "Whitefield           53\n",
      "Madhapur             52\n",
      "Gachibowli           50\n",
      "                     ..\n",
      "Suraram Main Road     1\n",
      "33                    1\n",
      "Near Charminar        1\n",
      "Lajpat Nagar 3        1\n",
      "Near Sector 31        1\n",
      "Name: LOCALITY, Length: 835, dtype: int64\n",
      "\n",
      "\n",
      "-------- RATING --------\n",
      " 3.8    416\n",
      "3.9    405\n",
      "4.0    399\n",
      "3.7    351\n",
      "3.6    310\n",
      "4.1    281\n",
      "4.2    245\n",
      "NEW    223\n",
      "3.5    217\n",
      "3.4    202\n",
      "4.3    184\n",
      "-      177\n",
      "4.4    122\n",
      "3.3    120\n",
      "3.2     83\n",
      "3.1     77\n",
      "4.5     75\n",
      "3.0     59\n",
      "2.9     56\n",
      "2.8     45\n",
      "4.6     43\n",
      "2.7     40\n",
      "2.6     24\n",
      "4.7     21\n",
      "4.8     17\n",
      "2.5     16\n",
      "2.4      9\n",
      "4.9      6\n",
      "2.3      5\n",
      "2.2      2\n",
      "2.1      1\n",
      "Name: RATING, dtype: int64\n",
      "\n",
      "\n",
      "-------- VOTES --------\n",
      " 6 votes       432\n",
      "22 votes       26\n",
      "58 votes       26\n",
      "9 votes        24\n",
      "42 votes       24\n",
      "             ... \n",
      "501 votes       1\n",
      "1324 votes      1\n",
      "2213 votes      1\n",
      "1913 votes      1\n",
      "775 votes       1\n",
      "Name: VOTES, Length: 1136, dtype: int64\n",
      "\n",
      "\n"
     ]
    }
   ],
   "source": [
    "# Let's check  the value counts of test data.\n",
    "\n",
    "for i in food_test.columns:\n",
    "    x = food_test[i].value_counts()\n",
    "    print(\"--------\",i,\"--------\\n\",x)\n",
    "    print('\\n')"
   ]
  },
  {
   "cell_type": "code",
   "execution_count": 18,
   "metadata": {},
   "outputs": [],
   "source": [
    "# Dropping the 'RESTAURANT_ID' and 'TIME' as every restraunt has it's unique id and have specific time of the restayrant to be opened and close whch will not affect the cost as such. Thus, dropping the both.\n",
    "\n",
    "food_train = food_train.drop(['RESTAURANT_ID', 'TIME'], axis=1)\n",
    "food_test = food_test.drop(['RESTAURANT_ID', 'TIME'], axis=1)"
   ]
  },
  {
   "cell_type": "code",
   "execution_count": 19,
   "metadata": {},
   "outputs": [
    {
     "data": {
      "text/html": [
       "<div>\n",
       "<style scoped>\n",
       "    .dataframe tbody tr th:only-of-type {\n",
       "        vertical-align: middle;\n",
       "    }\n",
       "\n",
       "    .dataframe tbody tr th {\n",
       "        vertical-align: top;\n",
       "    }\n",
       "\n",
       "    .dataframe thead th {\n",
       "        text-align: right;\n",
       "    }\n",
       "</style>\n",
       "<table border=\"1\" class=\"dataframe\">\n",
       "  <thead>\n",
       "    <tr style=\"text-align: right;\">\n",
       "      <th></th>\n",
       "      <th>TITLE</th>\n",
       "      <th>CUISINES</th>\n",
       "      <th>CITY</th>\n",
       "      <th>LOCALITY</th>\n",
       "      <th>RATING</th>\n",
       "      <th>VOTES</th>\n",
       "      <th>COST</th>\n",
       "    </tr>\n",
       "  </thead>\n",
       "  <tbody>\n",
       "    <tr>\n",
       "      <th>0</th>\n",
       "      <td>CASUAL DINING</td>\n",
       "      <td>Malwani, Goan, North Indian</td>\n",
       "      <td>Thane</td>\n",
       "      <td>Dombivali East</td>\n",
       "      <td>3.6</td>\n",
       "      <td>49 votes</td>\n",
       "      <td>1200</td>\n",
       "    </tr>\n",
       "    <tr>\n",
       "      <th>1</th>\n",
       "      <td>CASUAL DINING,BAR</td>\n",
       "      <td>Asian, Modern Indian, Japanese</td>\n",
       "      <td>Chennai</td>\n",
       "      <td>Ramapuram</td>\n",
       "      <td>4.2</td>\n",
       "      <td>30 votes</td>\n",
       "      <td>1500</td>\n",
       "    </tr>\n",
       "  </tbody>\n",
       "</table>\n",
       "</div>"
      ],
      "text/plain": [
       "               TITLE                        CUISINES     CITY        LOCALITY  \\\n",
       "0      CASUAL DINING     Malwani, Goan, North Indian    Thane  Dombivali East   \n",
       "1  CASUAL DINING,BAR  Asian, Modern Indian, Japanese  Chennai       Ramapuram   \n",
       "\n",
       "  RATING     VOTES  COST  \n",
       "0    3.6  49 votes  1200  \n",
       "1    4.2  30 votes  1500  "
      ]
     },
     "execution_count": 19,
     "metadata": {},
     "output_type": "execute_result"
    }
   ],
   "source": [
    "# Let's check the head of the both train and test dataset after dropping the columns\n",
    "\n",
    "food_train.head(2)"
   ]
  },
  {
   "cell_type": "code",
   "execution_count": 20,
   "metadata": {},
   "outputs": [
    {
     "data": {
      "text/html": [
       "<div>\n",
       "<style scoped>\n",
       "    .dataframe tbody tr th:only-of-type {\n",
       "        vertical-align: middle;\n",
       "    }\n",
       "\n",
       "    .dataframe tbody tr th {\n",
       "        vertical-align: top;\n",
       "    }\n",
       "\n",
       "    .dataframe thead th {\n",
       "        text-align: right;\n",
       "    }\n",
       "</style>\n",
       "<table border=\"1\" class=\"dataframe\">\n",
       "  <thead>\n",
       "    <tr style=\"text-align: right;\">\n",
       "      <th></th>\n",
       "      <th>TITLE</th>\n",
       "      <th>CUISINES</th>\n",
       "      <th>CITY</th>\n",
       "      <th>LOCALITY</th>\n",
       "      <th>RATING</th>\n",
       "      <th>VOTES</th>\n",
       "    </tr>\n",
       "  </thead>\n",
       "  <tbody>\n",
       "    <tr>\n",
       "      <th>0</th>\n",
       "      <td>CASUAL DINING</td>\n",
       "      <td>North Indian, Chinese, Mughlai, Kebab</td>\n",
       "      <td>Noida</td>\n",
       "      <td>Sector 18</td>\n",
       "      <td>4.3</td>\n",
       "      <td>564 votes</td>\n",
       "    </tr>\n",
       "    <tr>\n",
       "      <th>1</th>\n",
       "      <td>QUICK BITES</td>\n",
       "      <td>South Indian, Fast Food, Pizza, North Indian</td>\n",
       "      <td>Mumbai</td>\n",
       "      <td>Grant Road</td>\n",
       "      <td>4.2</td>\n",
       "      <td>61 votes</td>\n",
       "    </tr>\n",
       "  </tbody>\n",
       "</table>\n",
       "</div>"
      ],
      "text/plain": [
       "           TITLE                                      CUISINES    CITY  \\\n",
       "0  CASUAL DINING         North Indian, Chinese, Mughlai, Kebab   Noida   \n",
       "1    QUICK BITES  South Indian, Fast Food, Pizza, North Indian  Mumbai   \n",
       "\n",
       "     LOCALITY RATING      VOTES  \n",
       "0   Sector 18    4.3  564 votes  \n",
       "1  Grant Road    4.2   61 votes  "
      ]
     },
     "execution_count": 20,
     "metadata": {},
     "output_type": "execute_result"
    }
   ],
   "source": [
    "food_test.head(2)"
   ]
  },
  {
   "cell_type": "code",
   "execution_count": 21,
   "metadata": {},
   "outputs": [],
   "source": [
    "# Replacing the NEW in 'RATING' for training and testing dataset.\n",
    "\n",
    "food_train['RATING'] = food_train['RATING'].replace({'-':0.0, 'NEW':5.0}) # replace the rating\n",
    "food_test['RATING'] = food_test['RATING'].replace({'-':0.0, 'NEW':5.0}) # replace the rating"
   ]
  },
  {
   "cell_type": "code",
   "execution_count": 22,
   "metadata": {},
   "outputs": [],
   "source": [
    "# Stripping off or removing the 'votes' from the 'VOTES' e.g. 6 votes stripped off to 6, for training and testing dataset.\n",
    "\n",
    "food_train[\"VOTES\"] = food_train[\"VOTES\"].str.rstrip(\"votes\")\n",
    "food_test[\"VOTES\"] = food_test[\"VOTES\"].str.rstrip(\"votes\")"
   ]
  },
  {
   "cell_type": "code",
   "execution_count": 23,
   "metadata": {},
   "outputs": [],
   "source": [
    "# Converting the data type of 'RATING' for both train and test dataset from object to float respectively.\n",
    "\n",
    "food_train[\"RATING\"]=food_train[\"RATING\"].astype('float64')\n",
    "food_test[\"RATING\"]=food_test[\"RATING\"].astype('float64')"
   ]
  },
  {
   "cell_type": "code",
   "execution_count": 24,
   "metadata": {},
   "outputs": [],
   "source": [
    "# Converting the data type of 'VOTES'' for both train and test dataset from object to integer respectively.\n",
    "\n",
    "food_train[\"VOTES\"]=food_train[\"VOTES\"].astype('int64')\n",
    "food_test[\"VOTES\"]=food_test[\"VOTES\"].astype('int64')"
   ]
  },
  {
   "cell_type": "code",
   "execution_count": 25,
   "metadata": {},
   "outputs": [
    {
     "data": {
      "text/plain": [
       "TITLE        object\n",
       "CUISINES     object\n",
       "CITY         object\n",
       "LOCALITY     object\n",
       "RATING      float64\n",
       "VOTES         int64\n",
       "COST          int64\n",
       "dtype: object"
      ]
     },
     "execution_count": 25,
     "metadata": {},
     "output_type": "execute_result"
    }
   ],
   "source": [
    "# Let's again check the data type of train data.\n",
    "\n",
    "food_train.dtypes"
   ]
  },
  {
   "cell_type": "code",
   "execution_count": 26,
   "metadata": {},
   "outputs": [
    {
     "data": {
      "text/plain": [
       "TITLE        object\n",
       "CUISINES     object\n",
       "CITY         object\n",
       "LOCALITY     object\n",
       "RATING      float64\n",
       "VOTES         int64\n",
       "dtype: object"
      ]
     },
     "execution_count": 26,
     "metadata": {},
     "output_type": "execute_result"
    }
   ],
   "source": [
    "# Let's again check the data type of train data.\n",
    "\n",
    "food_test.dtypes"
   ]
  },
  {
   "cell_type": "code",
   "execution_count": 27,
   "metadata": {},
   "outputs": [
    {
     "name": "stdout",
     "output_type": "stream",
     "text": [
      "Index(['TITLE', 'CUISINES', 'CITY', 'LOCALITY'], dtype='object') \n",
      "\n",
      "Index(['TITLE', 'CUISINES', 'CITY', 'LOCALITY'], dtype='object')\n"
     ]
    }
   ],
   "source": [
    "# Let's check the remaining columns which are of object type.\n",
    "\n",
    "rest_Train_obj = food_train.select_dtypes(include='object')\n",
    "print(rest_Train_obj.columns, '\\n')\n",
    "\n",
    "rest_Test_obj = food_test.select_dtypes(include='object')\n",
    "print(rest_Test_obj.columns)"
   ]
  },
  {
   "cell_type": "code",
   "execution_count": 28,
   "metadata": {},
   "outputs": [
    {
     "data": {
      "text/html": [
       "<div>\n",
       "<style scoped>\n",
       "    .dataframe tbody tr th:only-of-type {\n",
       "        vertical-align: middle;\n",
       "    }\n",
       "\n",
       "    .dataframe tbody tr th {\n",
       "        vertical-align: top;\n",
       "    }\n",
       "\n",
       "    .dataframe thead th {\n",
       "        text-align: right;\n",
       "    }\n",
       "</style>\n",
       "<table border=\"1\" class=\"dataframe\">\n",
       "  <thead>\n",
       "    <tr style=\"text-align: right;\">\n",
       "      <th></th>\n",
       "      <th>TITLE</th>\n",
       "      <th>CUISINES</th>\n",
       "      <th>CITY</th>\n",
       "      <th>LOCALITY</th>\n",
       "      <th>RATING</th>\n",
       "      <th>VOTES</th>\n",
       "      <th>COST</th>\n",
       "    </tr>\n",
       "  </thead>\n",
       "  <tbody>\n",
       "    <tr>\n",
       "      <th>0</th>\n",
       "      <td>31</td>\n",
       "      <td>2627</td>\n",
       "      <td>321</td>\n",
       "      <td>285</td>\n",
       "      <td>3.6</td>\n",
       "      <td>49</td>\n",
       "      <td>1200</td>\n",
       "    </tr>\n",
       "    <tr>\n",
       "      <th>1</th>\n",
       "      <td>33</td>\n",
       "      <td>289</td>\n",
       "      <td>67</td>\n",
       "      <td>1047</td>\n",
       "      <td>4.2</td>\n",
       "      <td>30</td>\n",
       "      <td>1500</td>\n",
       "    </tr>\n",
       "    <tr>\n",
       "      <th>2</th>\n",
       "      <td>31</td>\n",
       "      <td>2976</td>\n",
       "      <td>67</td>\n",
       "      <td>1102</td>\n",
       "      <td>3.8</td>\n",
       "      <td>221</td>\n",
       "      <td>800</td>\n",
       "    </tr>\n",
       "    <tr>\n",
       "      <th>3</th>\n",
       "      <td>95</td>\n",
       "      <td>4130</td>\n",
       "      <td>222</td>\n",
       "      <td>136</td>\n",
       "      <td>4.1</td>\n",
       "      <td>24</td>\n",
       "      <td>800</td>\n",
       "    </tr>\n",
       "    <tr>\n",
       "      <th>4</th>\n",
       "      <td>50</td>\n",
       "      <td>1766</td>\n",
       "      <td>222</td>\n",
       "      <td>620</td>\n",
       "      <td>3.8</td>\n",
       "      <td>165</td>\n",
       "      <td>300</td>\n",
       "    </tr>\n",
       "  </tbody>\n",
       "</table>\n",
       "</div>"
      ],
      "text/plain": [
       "   TITLE  CUISINES  CITY  LOCALITY  RATING  VOTES  COST\n",
       "0     31      2627   321       285     3.6     49  1200\n",
       "1     33       289    67      1047     4.2     30  1500\n",
       "2     31      2976    67      1102     3.8    221   800\n",
       "3     95      4130   222       136     4.1     24   800\n",
       "4     50      1766   222       620     3.8    165   300"
      ]
     },
     "execution_count": 28,
     "metadata": {},
     "output_type": "execute_result"
    }
   ],
   "source": [
    "# Using the LabelEncoder in order to convert the object type data into numerical.\n",
    "\n",
    "from sklearn.preprocessing import LabelEncoder\n",
    "\n",
    "\n",
    "# For training data.\n",
    "lb = {}\n",
    "for i, feature in enumerate(rest_Train_obj):\n",
    "    lb[feature] = LabelEncoder()\n",
    "    food_train[feature] = lb[feature].fit_transform(food_train[feature])\n",
    "\n",
    "food_train.head()"
   ]
  },
  {
   "cell_type": "code",
   "execution_count": 29,
   "metadata": {},
   "outputs": [
    {
     "data": {
      "text/html": [
       "<div>\n",
       "<style scoped>\n",
       "    .dataframe tbody tr th:only-of-type {\n",
       "        vertical-align: middle;\n",
       "    }\n",
       "\n",
       "    .dataframe tbody tr th {\n",
       "        vertical-align: top;\n",
       "    }\n",
       "\n",
       "    .dataframe thead th {\n",
       "        text-align: right;\n",
       "    }\n",
       "</style>\n",
       "<table border=\"1\" class=\"dataframe\">\n",
       "  <thead>\n",
       "    <tr style=\"text-align: right;\">\n",
       "      <th></th>\n",
       "      <th>TITLE</th>\n",
       "      <th>CUISINES</th>\n",
       "      <th>CITY</th>\n",
       "      <th>LOCALITY</th>\n",
       "      <th>RATING</th>\n",
       "      <th>VOTES</th>\n",
       "    </tr>\n",
       "  </thead>\n",
       "  <tbody>\n",
       "    <tr>\n",
       "      <th>0</th>\n",
       "      <td>23</td>\n",
       "      <td>1293</td>\n",
       "      <td>110</td>\n",
       "      <td>663</td>\n",
       "      <td>4.3</td>\n",
       "      <td>564</td>\n",
       "    </tr>\n",
       "    <tr>\n",
       "      <th>1</th>\n",
       "      <td>75</td>\n",
       "      <td>1632</td>\n",
       "      <td>96</td>\n",
       "      <td>221</td>\n",
       "      <td>4.2</td>\n",
       "      <td>61</td>\n",
       "    </tr>\n",
       "    <tr>\n",
       "      <th>2</th>\n",
       "      <td>23</td>\n",
       "      <td>1455</td>\n",
       "      <td>96</td>\n",
       "      <td>411</td>\n",
       "      <td>3.8</td>\n",
       "      <td>350</td>\n",
       "    </tr>\n",
       "    <tr>\n",
       "      <th>3</th>\n",
       "      <td>66</td>\n",
       "      <td>208</td>\n",
       "      <td>41</td>\n",
       "      <td>456</td>\n",
       "      <td>3.8</td>\n",
       "      <td>1445</td>\n",
       "    </tr>\n",
       "    <tr>\n",
       "      <th>4</th>\n",
       "      <td>75</td>\n",
       "      <td>1637</td>\n",
       "      <td>78</td>\n",
       "      <td>300</td>\n",
       "      <td>3.6</td>\n",
       "      <td>23</td>\n",
       "    </tr>\n",
       "  </tbody>\n",
       "</table>\n",
       "</div>"
      ],
      "text/plain": [
       "   TITLE  CUISINES  CITY  LOCALITY  RATING  VOTES\n",
       "0     23      1293   110       663     4.3    564\n",
       "1     75      1632    96       221     4.2     61\n",
       "2     23      1455    96       411     3.8    350\n",
       "3     66       208    41       456     3.8   1445\n",
       "4     75      1637    78       300     3.6     23"
      ]
     },
     "execution_count": 29,
     "metadata": {},
     "output_type": "execute_result"
    }
   ],
   "source": [
    "# For test data.\n",
    "lb = {}\n",
    "for i, feature in enumerate(rest_Test_obj):\n",
    "    lb[feature] = LabelEncoder()\n",
    "    food_test[feature] = lb[feature].fit_transform(food_test[feature])\n",
    "\n",
    "food_test.head()"
   ]
  },
  {
   "cell_type": "code",
   "execution_count": 30,
   "metadata": {},
   "outputs": [
    {
     "data": {
      "text/plain": [
       "TITLE         int32\n",
       "CUISINES      int32\n",
       "CITY          int32\n",
       "LOCALITY      int32\n",
       "RATING      float64\n",
       "VOTES         int64\n",
       "COST          int64\n",
       "dtype: object"
      ]
     },
     "execution_count": 30,
     "metadata": {},
     "output_type": "execute_result"
    }
   ],
   "source": [
    "# Let's again check the data type of train data.\n",
    "\n",
    "food_train.dtypes"
   ]
  },
  {
   "cell_type": "code",
   "execution_count": 31,
   "metadata": {},
   "outputs": [
    {
     "data": {
      "text/plain": [
       "TITLE         int32\n",
       "CUISINES      int32\n",
       "CITY          int32\n",
       "LOCALITY      int32\n",
       "RATING      float64\n",
       "VOTES         int64\n",
       "dtype: object"
      ]
     },
     "execution_count": 31,
     "metadata": {},
     "output_type": "execute_result"
    }
   ],
   "source": [
    "# Let's again check the data type of train data.\n",
    "\n",
    "food_test.dtypes"
   ]
  },
  {
   "cell_type": "markdown",
   "metadata": {},
   "source": [
    "Thus, the feature engineering is done and the whole data is now in numeric form for both the train and test data."
   ]
  },
  {
   "cell_type": "markdown",
   "metadata": {},
   "source": [
    "# Statistical Summary"
   ]
  },
  {
   "cell_type": "code",
   "execution_count": 32,
   "metadata": {},
   "outputs": [
    {
     "data": {
      "text/html": [
       "<div>\n",
       "<style scoped>\n",
       "    .dataframe tbody tr th:only-of-type {\n",
       "        vertical-align: middle;\n",
       "    }\n",
       "\n",
       "    .dataframe tbody tr th {\n",
       "        vertical-align: top;\n",
       "    }\n",
       "\n",
       "    .dataframe thead th {\n",
       "        text-align: right;\n",
       "    }\n",
       "</style>\n",
       "<table border=\"1\" class=\"dataframe\">\n",
       "  <thead>\n",
       "    <tr style=\"text-align: right;\">\n",
       "      <th></th>\n",
       "      <th>TITLE</th>\n",
       "      <th>CUISINES</th>\n",
       "      <th>CITY</th>\n",
       "      <th>LOCALITY</th>\n",
       "      <th>RATING</th>\n",
       "      <th>VOTES</th>\n",
       "      <th>COST</th>\n",
       "    </tr>\n",
       "  </thead>\n",
       "  <tbody>\n",
       "    <tr>\n",
       "      <th>count</th>\n",
       "      <td>12690.000000</td>\n",
       "      <td>12690.000000</td>\n",
       "      <td>12690.000000</td>\n",
       "      <td>12690.000000</td>\n",
       "      <td>12690.000000</td>\n",
       "      <td>12690.000000</td>\n",
       "      <td>12690.000000</td>\n",
       "    </tr>\n",
       "    <tr>\n",
       "      <th>mean</th>\n",
       "      <td>59.465721</td>\n",
       "      <td>2235.193932</td>\n",
       "      <td>144.021749</td>\n",
       "      <td>656.940741</td>\n",
       "      <td>3.705477</td>\n",
       "      <td>380.405753</td>\n",
       "      <td>655.252246</td>\n",
       "    </tr>\n",
       "    <tr>\n",
       "      <th>std</th>\n",
       "      <td>32.762427</td>\n",
       "      <td>1204.091664</td>\n",
       "      <td>84.410254</td>\n",
       "      <td>399.109981</td>\n",
       "      <td>0.892218</td>\n",
       "      <td>809.110447</td>\n",
       "      <td>627.003540</td>\n",
       "    </tr>\n",
       "    <tr>\n",
       "      <th>min</th>\n",
       "      <td>0.000000</td>\n",
       "      <td>0.000000</td>\n",
       "      <td>0.000000</td>\n",
       "      <td>0.000000</td>\n",
       "      <td>0.000000</td>\n",
       "      <td>4.000000</td>\n",
       "      <td>20.000000</td>\n",
       "    </tr>\n",
       "    <tr>\n",
       "      <th>25%</th>\n",
       "      <td>31.000000</td>\n",
       "      <td>1185.250000</td>\n",
       "      <td>67.000000</td>\n",
       "      <td>337.000000</td>\n",
       "      <td>3.500000</td>\n",
       "      <td>44.000000</td>\n",
       "      <td>300.000000</td>\n",
       "    </tr>\n",
       "    <tr>\n",
       "      <th>50%</th>\n",
       "      <td>59.000000</td>\n",
       "      <td>2416.500000</td>\n",
       "      <td>131.000000</td>\n",
       "      <td>590.000000</td>\n",
       "      <td>3.800000</td>\n",
       "      <td>132.000000</td>\n",
       "      <td>500.000000</td>\n",
       "    </tr>\n",
       "    <tr>\n",
       "      <th>75%</th>\n",
       "      <td>95.000000</td>\n",
       "      <td>3222.750000</td>\n",
       "      <td>222.000000</td>\n",
       "      <td>1010.000000</td>\n",
       "      <td>4.100000</td>\n",
       "      <td>405.000000</td>\n",
       "      <td>800.000000</td>\n",
       "    </tr>\n",
       "    <tr>\n",
       "      <th>max</th>\n",
       "      <td>112.000000</td>\n",
       "      <td>4154.000000</td>\n",
       "      <td>359.000000</td>\n",
       "      <td>1416.000000</td>\n",
       "      <td>5.000000</td>\n",
       "      <td>41186.000000</td>\n",
       "      <td>14000.000000</td>\n",
       "    </tr>\n",
       "  </tbody>\n",
       "</table>\n",
       "</div>"
      ],
      "text/plain": [
       "              TITLE      CUISINES          CITY      LOCALITY        RATING  \\\n",
       "count  12690.000000  12690.000000  12690.000000  12690.000000  12690.000000   \n",
       "mean      59.465721   2235.193932    144.021749    656.940741      3.705477   \n",
       "std       32.762427   1204.091664     84.410254    399.109981      0.892218   \n",
       "min        0.000000      0.000000      0.000000      0.000000      0.000000   \n",
       "25%       31.000000   1185.250000     67.000000    337.000000      3.500000   \n",
       "50%       59.000000   2416.500000    131.000000    590.000000      3.800000   \n",
       "75%       95.000000   3222.750000    222.000000   1010.000000      4.100000   \n",
       "max      112.000000   4154.000000    359.000000   1416.000000      5.000000   \n",
       "\n",
       "              VOTES          COST  \n",
       "count  12690.000000  12690.000000  \n",
       "mean     380.405753    655.252246  \n",
       "std      809.110447    627.003540  \n",
       "min        4.000000     20.000000  \n",
       "25%       44.000000    300.000000  \n",
       "50%      132.000000    500.000000  \n",
       "75%      405.000000    800.000000  \n",
       "max    41186.000000  14000.000000  "
      ]
     },
     "execution_count": 32,
     "metadata": {},
     "output_type": "execute_result"
    }
   ],
   "source": [
    "# Let's use the describe function to check the statistical summary of the train dataset.\n",
    "\n",
    "food_train.describe()"
   ]
  },
  {
   "cell_type": "code",
   "execution_count": 33,
   "metadata": {},
   "outputs": [
    {
     "data": {
      "text/html": [
       "<div>\n",
       "<style scoped>\n",
       "    .dataframe tbody tr th:only-of-type {\n",
       "        vertical-align: middle;\n",
       "    }\n",
       "\n",
       "    .dataframe tbody tr th {\n",
       "        vertical-align: top;\n",
       "    }\n",
       "\n",
       "    .dataframe thead th {\n",
       "        text-align: right;\n",
       "    }\n",
       "</style>\n",
       "<table border=\"1\" class=\"dataframe\">\n",
       "  <thead>\n",
       "    <tr style=\"text-align: right;\">\n",
       "      <th></th>\n",
       "      <th>TITLE</th>\n",
       "      <th>CUISINES</th>\n",
       "      <th>CITY</th>\n",
       "      <th>LOCALITY</th>\n",
       "      <th>RATING</th>\n",
       "      <th>VOTES</th>\n",
       "    </tr>\n",
       "  </thead>\n",
       "  <tbody>\n",
       "    <tr>\n",
       "      <th>count</th>\n",
       "      <td>4231.000000</td>\n",
       "      <td>4231.000000</td>\n",
       "      <td>4231.000000</td>\n",
       "      <td>4231.000000</td>\n",
       "      <td>4231.000000</td>\n",
       "      <td>4231.000000</td>\n",
       "    </tr>\n",
       "    <tr>\n",
       "      <th>mean</th>\n",
       "      <td>45.781612</td>\n",
       "      <td>928.372489</td>\n",
       "      <td>59.170882</td>\n",
       "      <td>385.337745</td>\n",
       "      <td>3.687568</td>\n",
       "      <td>389.505791</td>\n",
       "    </tr>\n",
       "    <tr>\n",
       "      <th>std</th>\n",
       "      <td>26.409174</td>\n",
       "      <td>498.480193</td>\n",
       "      <td>38.818105</td>\n",
       "      <td>235.484564</td>\n",
       "      <td>0.915311</td>\n",
       "      <td>800.665248</td>\n",
       "    </tr>\n",
       "    <tr>\n",
       "      <th>min</th>\n",
       "      <td>0.000000</td>\n",
       "      <td>0.000000</td>\n",
       "      <td>0.000000</td>\n",
       "      <td>0.000000</td>\n",
       "      <td>0.000000</td>\n",
       "      <td>3.000000</td>\n",
       "    </tr>\n",
       "    <tr>\n",
       "      <th>25%</th>\n",
       "      <td>23.000000</td>\n",
       "      <td>484.000000</td>\n",
       "      <td>18.000000</td>\n",
       "      <td>192.000000</td>\n",
       "      <td>3.500000</td>\n",
       "      <td>42.000000</td>\n",
       "    </tr>\n",
       "    <tr>\n",
       "      <th>50%</th>\n",
       "      <td>42.000000</td>\n",
       "      <td>1008.000000</td>\n",
       "      <td>55.000000</td>\n",
       "      <td>355.000000</td>\n",
       "      <td>3.800000</td>\n",
       "      <td>134.000000</td>\n",
       "    </tr>\n",
       "    <tr>\n",
       "      <th>75%</th>\n",
       "      <td>75.000000</td>\n",
       "      <td>1320.000000</td>\n",
       "      <td>96.000000</td>\n",
       "      <td>582.500000</td>\n",
       "      <td>4.100000</td>\n",
       "      <td>422.500000</td>\n",
       "    </tr>\n",
       "    <tr>\n",
       "      <th>max</th>\n",
       "      <td>85.000000</td>\n",
       "      <td>1726.000000</td>\n",
       "      <td>151.000000</td>\n",
       "      <td>834.000000</td>\n",
       "      <td>5.000000</td>\n",
       "      <td>15205.000000</td>\n",
       "    </tr>\n",
       "  </tbody>\n",
       "</table>\n",
       "</div>"
      ],
      "text/plain": [
       "             TITLE     CUISINES         CITY     LOCALITY       RATING  \\\n",
       "count  4231.000000  4231.000000  4231.000000  4231.000000  4231.000000   \n",
       "mean     45.781612   928.372489    59.170882   385.337745     3.687568   \n",
       "std      26.409174   498.480193    38.818105   235.484564     0.915311   \n",
       "min       0.000000     0.000000     0.000000     0.000000     0.000000   \n",
       "25%      23.000000   484.000000    18.000000   192.000000     3.500000   \n",
       "50%      42.000000  1008.000000    55.000000   355.000000     3.800000   \n",
       "75%      75.000000  1320.000000    96.000000   582.500000     4.100000   \n",
       "max      85.000000  1726.000000   151.000000   834.000000     5.000000   \n",
       "\n",
       "              VOTES  \n",
       "count   4231.000000  \n",
       "mean     389.505791  \n",
       "std      800.665248  \n",
       "min        3.000000  \n",
       "25%       42.000000  \n",
       "50%      134.000000  \n",
       "75%      422.500000  \n",
       "max    15205.000000  "
      ]
     },
     "execution_count": 33,
     "metadata": {},
     "output_type": "execute_result"
    }
   ],
   "source": [
    "# statistical summary of the test dataset.\n",
    "\n",
    "food_test.describe()"
   ]
  },
  {
   "cell_type": "markdown",
   "metadata": {},
   "source": [
    "# Correlation"
   ]
  },
  {
   "cell_type": "code",
   "execution_count": 34,
   "metadata": {},
   "outputs": [
    {
     "data": {
      "text/plain": [
       "<matplotlib.axes._subplots.AxesSubplot at 0x1706fef4708>"
      ]
     },
     "execution_count": 34,
     "metadata": {},
     "output_type": "execute_result"
    },
    {
     "data": {
      "image/png": "[encoded data removed]",
      "text/plain": [
       "<Figure size 864x576 with 2 Axes>"
      ]
     },
     "metadata": {},
     "output_type": "display_data"
    }
   ],
   "source": [
    "# Let's Visualize the train dataset's correlation using heatmap.\n",
    "\n",
    "plt.figure(figsize=(12,8))\n",
    "sns.heatmap(food_train.corr(), cmap= \"BuPu_r\", annot= True)"
   ]
  },
  {
   "cell_type": "code",
   "execution_count": 35,
   "metadata": {},
   "outputs": [
    {
     "data": {
      "text/plain": [
       "<matplotlib.axes._subplots.AxesSubplot at 0x17070f4abc8>"
      ]
     },
     "execution_count": 35,
     "metadata": {},
     "output_type": "execute_result"
    },
    {
     "data": {
      "image/png": "[encoded data removed]",
      "text/plain": [
       "<Figure size 864x576 with 2 Axes>"
      ]
     },
     "metadata": {},
     "output_type": "display_data"
    }
   ],
   "source": [
    "# Let's Visualize the test dataset's correlation using heatmap.\n",
    "\n",
    "plt.figure(figsize=(12,8))\n",
    "sns.heatmap(food_test.corr(), cmap= \"BuPu_r\", annot= True)"
   ]
  },
  {
   "cell_type": "markdown",
   "metadata": {},
   "source": [
    "# Removing outliers and skewness"
   ]
  },
  {
   "cell_type": "markdown",
   "metadata": {},
   "source": [
    "TRAIN DATASET"
   ]
  },
  {
   "cell_type": "code",
   "execution_count": 36,
   "metadata": {},
   "outputs": [
    {
     "data": {
      "text/plain": [
       "TITLE       -0.069803\n",
       "CUISINES    -0.218782\n",
       "CITY         0.235724\n",
       "LOCALITY     0.327651\n",
       "RATING      -2.618548\n",
       "VOTES       14.609221\n",
       "COST         3.978801\n",
       "dtype: float64"
      ]
     },
     "execution_count": 36,
     "metadata": {},
     "output_type": "execute_result"
    }
   ],
   "source": [
    "# Let's check the data types of each feature.\n",
    "\n",
    "food_train.skew()"
   ]
  },
  {
   "cell_type": "code",
   "execution_count": 37,
   "metadata": {},
   "outputs": [
    {
     "name": "stdout",
     "output_type": "stream",
     "text": [
      "(12690, 7)\n",
      "(11773, 7)\n"
     ]
    }
   ],
   "source": [
    "# Let's now check the outliers and clean the data.\n",
    "\n",
    "from scipy.stats import zscore\n",
    "\n",
    "z = np.abs(zscore(food_train))\n",
    "print(z.shape)\n",
    "\n",
    "# Removing the outliers.\n",
    "\n",
    "food_train = food_train.loc[(z<3).all(axis=1)]\n",
    "print(food_train.shape)"
   ]
  },
  {
   "cell_type": "markdown",
   "metadata": {},
   "source": [
    "By comparing shape of 'z' and 'food_train' shape , 917 rows have been removed as an outlier."
   ]
  },
  {
   "cell_type": "code",
   "execution_count": 38,
   "metadata": {},
   "outputs": [],
   "source": [
    "# Treating the skewness with sqrt function.\n",
    "\n",
    "for col in food_train.columns:\n",
    "    if food_train.skew().loc[col]>0.55:\n",
    "        food_train[col]=np.sqrt(food_train[col])"
   ]
  },
  {
   "cell_type": "code",
   "execution_count": 39,
   "metadata": {},
   "outputs": [
    {
     "data": {
      "text/plain": [
       "TITLE      -0.084354\n",
       "CUISINES   -0.217130\n",
       "CITY        0.281310\n",
       "LOCALITY    0.315860\n",
       "RATING      0.164154\n",
       "VOTES       1.278935\n",
       "COST        1.002538\n",
       "dtype: float64"
      ]
     },
     "execution_count": 39,
     "metadata": {},
     "output_type": "execute_result"
    }
   ],
   "source": [
    "# Again checking the skewness after treament.\n",
    "\n",
    "food_train.skew()"
   ]
  },
  {
   "cell_type": "markdown",
   "metadata": {},
   "source": [
    "The skewness have been reduced a lot and to it's ost possible extent for the train dataset."
   ]
  },
  {
   "cell_type": "markdown",
   "metadata": {},
   "source": [
    "TEST DATASET"
   ]
  },
  {
   "cell_type": "code",
   "execution_count": 40,
   "metadata": {},
   "outputs": [
    {
     "data": {
      "text/plain": [
       "TITLE      -0.019891\n",
       "CUISINES   -0.211171\n",
       "CITY        0.065922\n",
       "LOCALITY    0.294979\n",
       "RATING     -2.573228\n",
       "VOTES       7.054846\n",
       "dtype: float64"
      ]
     },
     "execution_count": 40,
     "metadata": {},
     "output_type": "execute_result"
    }
   ],
   "source": [
    "# Let's check the skewness of the data before removing the outliers.\n",
    "\n",
    "food_test.skew()"
   ]
  },
  {
   "cell_type": "code",
   "execution_count": 41,
   "metadata": {},
   "outputs": [
    {
     "name": "stdout",
     "output_type": "stream",
     "text": [
      "(4231, 6)\n",
      "(3980, 6)\n"
     ]
    }
   ],
   "source": [
    "# Let's now check the outliers and clean the data.\n",
    "\n",
    "from scipy.stats import zscore\n",
    "\n",
    "z = np.abs(zscore(food_test))\n",
    "print(z.shape)\n",
    "\n",
    "# Removing the outliers.\n",
    "\n",
    "food_test = food_test.loc[(z<3).all(axis=1)]\n",
    "print(food_test.shape)"
   ]
  },
  {
   "cell_type": "markdown",
   "metadata": {},
   "source": [
    "By comparing shape of 'z' and 'df_flight_test' shape , 251 rows have been removed as an outlier."
   ]
  },
  {
   "cell_type": "code",
   "execution_count": 42,
   "metadata": {},
   "outputs": [],
   "source": [
    "# Treating the skewness with sqrt function.\n",
    "\n",
    "for col in food_test.columns:\n",
    "    if food_test.skew().loc[col]>0.55:\n",
    "        food_test[col]=np.sqrt(food_test[col])"
   ]
  },
  {
   "cell_type": "code",
   "execution_count": 43,
   "metadata": {},
   "outputs": [
    {
     "data": {
      "text/plain": [
       "TITLE      -0.032011\n",
       "CUISINES   -0.209136\n",
       "CITY        0.121843\n",
       "LOCALITY    0.280950\n",
       "RATING      0.057536\n",
       "VOTES       1.118155\n",
       "dtype: float64"
      ]
     },
     "execution_count": 43,
     "metadata": {},
     "output_type": "execute_result"
    }
   ],
   "source": [
    "# Again checking the skewness after treament.\n",
    "\n",
    "food_test.skew()"
   ]
  },
  {
   "cell_type": "markdown",
   "metadata": {},
   "source": [
    "For test data also, the skeewness has been reduced to it's possible extent."
   ]
  },
  {
   "cell_type": "markdown",
   "metadata": {},
   "source": [
    "# Separating the input and output variables"
   ]
  },
  {
   "cell_type": "code",
   "execution_count": 44,
   "metadata": {},
   "outputs": [],
   "source": [
    "# Let's Separating the input and target variables\n",
    "\n",
    "X = food_train.drop(columns=[\"COST\"])\n",
    "y = food_train[[\"COST\"]]"
   ]
  },
  {
   "cell_type": "code",
   "execution_count": 45,
   "metadata": {},
   "outputs": [
    {
     "name": "stdout",
     "output_type": "stream",
     "text": [
      "(11773, 6)\n",
      "(11773, 1)\n"
     ]
    }
   ],
   "source": [
    "# Let's check the shape of input and outpuut variables.\n",
    "\n",
    "print(X.shape)\n",
    "print(y.shape)"
   ]
  },
  {
   "cell_type": "code",
   "execution_count": 46,
   "metadata": {},
   "outputs": [
    {
     "data": {
      "text/html": [
       "<div>\n",
       "<style scoped>\n",
       "    .dataframe tbody tr th:only-of-type {\n",
       "        vertical-align: middle;\n",
       "    }\n",
       "\n",
       "    .dataframe tbody tr th {\n",
       "        vertical-align: top;\n",
       "    }\n",
       "\n",
       "    .dataframe thead th {\n",
       "        text-align: right;\n",
       "    }\n",
       "</style>\n",
       "<table border=\"1\" class=\"dataframe\">\n",
       "  <thead>\n",
       "    <tr style=\"text-align: right;\">\n",
       "      <th></th>\n",
       "      <th>TITLE</th>\n",
       "      <th>CUISINES</th>\n",
       "      <th>CITY</th>\n",
       "      <th>LOCALITY</th>\n",
       "      <th>RATING</th>\n",
       "      <th>VOTES</th>\n",
       "    </tr>\n",
       "  </thead>\n",
       "  <tbody>\n",
       "    <tr>\n",
       "      <th>0</th>\n",
       "      <td>31</td>\n",
       "      <td>2627</td>\n",
       "      <td>321</td>\n",
       "      <td>285</td>\n",
       "      <td>3.6</td>\n",
       "      <td>7.000000</td>\n",
       "    </tr>\n",
       "    <tr>\n",
       "      <th>1</th>\n",
       "      <td>33</td>\n",
       "      <td>289</td>\n",
       "      <td>67</td>\n",
       "      <td>1047</td>\n",
       "      <td>4.2</td>\n",
       "      <td>5.477226</td>\n",
       "    </tr>\n",
       "    <tr>\n",
       "      <th>2</th>\n",
       "      <td>31</td>\n",
       "      <td>2976</td>\n",
       "      <td>67</td>\n",
       "      <td>1102</td>\n",
       "      <td>3.8</td>\n",
       "      <td>14.866069</td>\n",
       "    </tr>\n",
       "    <tr>\n",
       "      <th>3</th>\n",
       "      <td>95</td>\n",
       "      <td>4130</td>\n",
       "      <td>222</td>\n",
       "      <td>136</td>\n",
       "      <td>4.1</td>\n",
       "      <td>4.898979</td>\n",
       "    </tr>\n",
       "    <tr>\n",
       "      <th>4</th>\n",
       "      <td>50</td>\n",
       "      <td>1766</td>\n",
       "      <td>222</td>\n",
       "      <td>620</td>\n",
       "      <td>3.8</td>\n",
       "      <td>12.845233</td>\n",
       "    </tr>\n",
       "  </tbody>\n",
       "</table>\n",
       "</div>"
      ],
      "text/plain": [
       "   TITLE  CUISINES  CITY  LOCALITY  RATING      VOTES\n",
       "0     31      2627   321       285     3.6   7.000000\n",
       "1     33       289    67      1047     4.2   5.477226\n",
       "2     31      2976    67      1102     3.8  14.866069\n",
       "3     95      4130   222       136     4.1   4.898979\n",
       "4     50      1766   222       620     3.8  12.845233"
      ]
     },
     "execution_count": 46,
     "metadata": {},
     "output_type": "execute_result"
    }
   ],
   "source": [
    "# Let's check the head of the input variables.\n",
    "X.head()"
   ]
  },
  {
   "cell_type": "code",
   "execution_count": 47,
   "metadata": {},
   "outputs": [
    {
     "data": {
      "text/html": [
       "<div>\n",
       "<style scoped>\n",
       "    .dataframe tbody tr th:only-of-type {\n",
       "        vertical-align: middle;\n",
       "    }\n",
       "\n",
       "    .dataframe tbody tr th {\n",
       "        vertical-align: top;\n",
       "    }\n",
       "\n",
       "    .dataframe thead th {\n",
       "        text-align: right;\n",
       "    }\n",
       "</style>\n",
       "<table border=\"1\" class=\"dataframe\">\n",
       "  <thead>\n",
       "    <tr style=\"text-align: right;\">\n",
       "      <th></th>\n",
       "      <th>COST</th>\n",
       "    </tr>\n",
       "  </thead>\n",
       "  <tbody>\n",
       "    <tr>\n",
       "      <th>0</th>\n",
       "      <td>34.641016</td>\n",
       "    </tr>\n",
       "    <tr>\n",
       "      <th>1</th>\n",
       "      <td>38.729833</td>\n",
       "    </tr>\n",
       "    <tr>\n",
       "      <th>2</th>\n",
       "      <td>28.284271</td>\n",
       "    </tr>\n",
       "    <tr>\n",
       "      <th>3</th>\n",
       "      <td>28.284271</td>\n",
       "    </tr>\n",
       "    <tr>\n",
       "      <th>4</th>\n",
       "      <td>17.320508</td>\n",
       "    </tr>\n",
       "  </tbody>\n",
       "</table>\n",
       "</div>"
      ],
      "text/plain": [
       "        COST\n",
       "0  34.641016\n",
       "1  38.729833\n",
       "2  28.284271\n",
       "3  28.284271\n",
       "4  17.320508"
      ]
     },
     "execution_count": 47,
     "metadata": {},
     "output_type": "execute_result"
    }
   ],
   "source": [
    "# Let's check the head of the output variables.\n",
    "y.head()"
   ]
  },
  {
   "cell_type": "markdown",
   "metadata": {},
   "source": [
    "# Standard Scaling"
   ]
  },
  {
   "cell_type": "code",
   "execution_count": 48,
   "metadata": {},
   "outputs": [
    {
     "data": {
      "text/plain": [
       "array([[-0.87859082,  0.32360624,  2.08257571, -0.9289356 , -0.48625552,\n",
       "        -0.75935946],\n",
       "       [-0.81781393, -1.61114657, -0.88563162,  0.97668974,  0.71611495,\n",
       "        -0.90967559],\n",
       "       [-0.87859082,  0.61241237, -0.88563162,  1.11423488, -0.08546536,\n",
       "         0.01711602],\n",
       "       ...,\n",
       "       [ 0.33694703, -0.12242959,  1.12433555,  1.71693266,  0.3153248 ,\n",
       "         0.98366331],\n",
       "       [-0.87859082,  1.05100047, -0.88563162, -0.06365165, -0.6866506 ,\n",
       "        -0.89194408],\n",
       "       [-0.87859082,  0.58758663, -0.13773686,  1.69442527, -0.88704567,\n",
       "         1.11806639]])"
      ]
     },
     "execution_count": 48,
     "metadata": {},
     "output_type": "execute_result"
    }
   ],
   "source": [
    "# Scaling the Input variables\n",
    "\n",
    "from sklearn.preprocessing import StandardScaler\n",
    "sc = StandardScaler()\n",
    "X = sc.fit_transform(X)\n",
    "X"
   ]
  },
  {
   "cell_type": "markdown",
   "metadata": {},
   "source": [
    "# Training And Testing the Models"
   ]
  },
  {
   "cell_type": "code",
   "execution_count": 49,
   "metadata": {},
   "outputs": [],
   "source": [
    "# Importing the neccesary sklearn libraries.\n",
    "\n",
    "from sklearn.linear_model import Lasso, LinearRegression, Ridge\n",
    "from sklearn.svm import SVR\n",
    "from sklearn.tree import DecisionTreeRegressor\n",
    "from sklearn.neighbors import KNeighborsRegressor\n",
    "from sklearn.ensemble import RandomForestRegressor\n",
    "from sklearn.ensemble import AdaBoostRegressor\n",
    "from sklearn.ensemble import GradientBoostingRegressor\n",
    "from sklearn.model_selection import cross_val_score\n",
    "from sklearn.model_selection import train_test_split\n",
    "from sklearn.metrics import mean_absolute_error,mean_squared_error, r2_score\n",
    "from sklearn import linear_model\n",
    "from sklearn.model_selection import GridSearchCV"
   ]
  },
  {
   "cell_type": "code",
   "execution_count": 50,
   "metadata": {},
   "outputs": [],
   "source": [
    "# Splitting the training and testing data and finding the maximum r2 score at random state.\n",
    "\n",
    "score = []\n",
    "MSE = []\n",
    "MAE = []\n",
    "RMSE = []\n",
    "\n",
    "def max_r2_score (reg, X, y):\n",
    "    max_r_scr = 0\n",
    "    for r_state in range(42,101):\n",
    "        X_train, X_test, y_train, y_test = train_test_split(X, y, test_size = .20, random_state = r_state)\n",
    "        reg.fit(X_train, y_train)\n",
    "        pred = reg.predict(X_test)\n",
    "        r2_scr = r2_score(y_test, pred)\n",
    "        if r2_scr > max_r_scr:\n",
    "            max_r_scr = r2_scr\n",
    "            final_r_state = r_state\n",
    "            \n",
    "    print(\"Maximum r2 score :\", max_r_scr, \"achieved at\", final_r_state)\n",
    "    score.append(max_r_scr)\n",
    "    print('\\n')\n",
    "    print (\"Train acc\",reg.score(X_train,y_train))\n",
    "    print('\\n')\n",
    "    mse = np.sqrt(mean_absolute_error(y_test, pred))\n",
    "    print(\"Mean Absolute Error : \",mse)\n",
    "    MSE.append(mse)\n",
    "    print('\\n')\n",
    "    mae = mean_absolute_error(y_test, pred)\n",
    "    print(\"Mean absolute error :\", mae)\n",
    "    MAE.append(mae)\n",
    "    print('\\n')\n",
    "    rmse = np.sqrt(mean_squared_error(y_test, pred))\n",
    "    print(\"RMSE : \", rmse)\n",
    "    RMSE.append(rmse)"
   ]
  },
  {
   "cell_type": "code",
   "execution_count": 51,
   "metadata": {},
   "outputs": [],
   "source": [
    "# Creating the instances for the algorithms.\n",
    "\n",
    "lr = LinearRegression()\n",
    "lreg = Lasso()\n",
    "rg = Ridge()\n",
    "sv = SVR()\n",
    "dtr = DecisionTreeRegressor()\n",
    "knnr = KNeighborsRegressor()\n",
    "rfr = RandomForestRegressor()\n",
    "ABC = AdaBoostRegressor()\n",
    "GBC = GradientBoostingRegressor()"
   ]
  },
  {
   "cell_type": "code",
   "execution_count": 52,
   "metadata": {},
   "outputs": [],
   "source": [
    "models = []\n",
    "models.append(('LinearRegression', lr))\n",
    "models.append(('Lasso', lreg))\n",
    "models.append(('Ridge', rg))\n",
    "models.append(('SVR', sv))\n",
    "models.append(('DecisionTreeRegressor', dtr))\n",
    "models.append(('KNeighborsRegressor', knnr))\n",
    "models.append(('RandomForestRegressor', rfr))\n",
    "models.append((\"AdaBoostRegressor\", ABC))\n",
    "models.append((\"GradientBoostingRegressor\", GBC))"
   ]
  },
  {
   "cell_type": "code",
   "execution_count": 53,
   "metadata": {},
   "outputs": [
    {
     "name": "stdout",
     "output_type": "stream",
     "text": [
      "-------- LinearRegression --------\n",
      "Maximum r2 score : 0.3446133415216004 achieved at 63\n",
      "\n",
      "\n",
      "Train acc 0.31090811800101315\n",
      "\n",
      "\n",
      "Mean Absolute Error :  2.20304572906432\n",
      "\n",
      "\n",
      "Mean absolute error : 4.853410484348542\n",
      "\n",
      "\n",
      "RMSE :  6.641061906937234\n",
      "\n",
      "\n",
      "Cross validation score (Mean r2 score): 0.3101821407611699\n",
      "Standard Deviationin r2 score : 0.011022267079253112\n",
      "\n",
      "\n",
      "\n",
      "\n",
      "-------- Lasso --------\n",
      "Maximum r2 score : 0.2982739615961012 achieved at 76\n",
      "\n",
      "\n",
      "Train acc 0.2762085126290872\n",
      "\n",
      "\n",
      "Mean Absolute Error :  2.231891570266645\n",
      "\n",
      "\n",
      "Mean absolute error : 4.98133998142731\n",
      "\n",
      "\n",
      "RMSE :  6.8125110334366425\n",
      "\n",
      "\n",
      "Cross validation score (Mean r2 score): 0.2753166963428181\n",
      "Standard Deviationin r2 score : 0.010175097415458098\n",
      "\n",
      "\n",
      "\n",
      "\n",
      "-------- Ridge --------\n",
      "Maximum r2 score : 0.34460964497549107 achieved at 63\n",
      "\n",
      "\n",
      "Train acc 0.31090811564371656\n",
      "\n",
      "\n",
      "Mean Absolute Error :  2.2030443786117764\n",
      "\n",
      "\n",
      "Mean absolute error : 4.853404534132949\n",
      "\n",
      "\n",
      "RMSE :  6.641066369430569\n",
      "\n",
      "\n",
      "Cross validation score (Mean r2 score): 0.31018223153645696\n",
      "Standard Deviationin r2 score : 0.01102192153167323\n",
      "\n",
      "\n",
      "\n",
      "\n",
      "-------- SVR --------\n",
      "Maximum r2 score : 0.42178052225720264 achieved at 87\n",
      "\n",
      "\n",
      "Train acc 0.40466829831590245\n",
      "\n",
      "\n",
      "Mean Absolute Error :  2.1024666423340728\n",
      "\n",
      "\n",
      "Mean absolute error : 4.420365982127509\n",
      "\n",
      "\n",
      "RMSE :  6.223769274861953\n",
      "\n",
      "\n",
      "Cross validation score (Mean r2 score): 0.39193706139983153\n",
      "Standard Deviationin r2 score : 0.010971795647839764\n",
      "\n",
      "\n",
      "\n",
      "\n",
      "-------- DecisionTreeRegressor --------\n",
      "Maximum r2 score : 0.45050512599305237 achieved at 88\n",
      "\n",
      "\n",
      "Train acc 0.9999493316037954\n",
      "\n",
      "\n",
      "Mean Absolute Error :  2.146603307152876\n",
      "\n",
      "\n",
      "Mean absolute error : 4.607905758279664\n",
      "\n",
      "\n",
      "RMSE :  6.2199484494171795\n",
      "\n",
      "\n",
      "Cross validation score (Mean r2 score): 0.4094801671266131\n",
      "Standard Deviationin r2 score : 0.02385843737407107\n",
      "\n",
      "\n",
      "\n",
      "\n",
      "-------- KNeighborsRegressor --------\n",
      "Maximum r2 score : 0.4464889031202782 achieved at 87\n",
      "\n",
      "\n",
      "Train acc 0.5969985191993346\n",
      "\n",
      "\n",
      "Mean Absolute Error :  2.100262001832038\n",
      "\n",
      "\n",
      "Mean absolute error : 4.411100476339519\n",
      "\n",
      "\n",
      "RMSE :  6.132401348735402\n",
      "\n",
      "\n",
      "Cross validation score (Mean r2 score): 0.39688002038685033\n",
      "Standard Deviationin r2 score : 0.012545014331715256\n",
      "\n",
      "\n",
      "\n",
      "\n",
      "-------- RandomForestRegressor --------\n",
      "Maximum r2 score : 0.7177362359269244 achieved at 81\n",
      "\n",
      "\n",
      "Train acc 0.9560569145733397\n",
      "\n",
      "\n",
      "Mean Absolute Error :  1.8183376237854907\n",
      "\n",
      "\n",
      "Mean absolute error : 3.3063517140738647\n",
      "\n",
      "\n",
      "RMSE :  4.3970070378857855\n",
      "\n",
      "\n",
      "Cross validation score (Mean r2 score): 0.687547906373074\n",
      "Standard Deviationin r2 score : 0.015946434327313862\n",
      "\n",
      "\n",
      "\n",
      "\n",
      "-------- AdaBoostRegressor --------\n",
      "Maximum r2 score : 0.4327607581134162 achieved at 98\n",
      "\n",
      "\n",
      "Train acc 0.36809018128623383\n",
      "\n",
      "\n",
      "Mean Absolute Error :  2.2200271965016083\n",
      "\n",
      "\n",
      "Mean absolute error : 4.928520753206791\n",
      "\n",
      "\n",
      "RMSE :  6.373289273841729\n",
      "\n",
      "\n",
      "Cross validation score (Mean r2 score): 0.3513629643913347\n",
      "Standard Deviationin r2 score : 0.02758446548900867\n",
      "\n",
      "\n",
      "\n",
      "\n",
      "-------- GradientBoostingRegressor --------\n",
      "Maximum r2 score : 0.6932659525416971 achieved at 81\n",
      "\n",
      "\n",
      "Train acc 0.6876005397198595\n",
      "\n",
      "\n",
      "Mean Absolute Error :  1.8473463385737101\n",
      "\n",
      "\n",
      "Mean absolute error : 3.412688494641693\n",
      "\n",
      "\n",
      "RMSE :  4.486095068642713\n",
      "\n",
      "\n",
      "Cross validation score (Mean r2 score): 0.6659288826618521\n",
      "Standard Deviationin r2 score : 0.012042568441300182\n",
      "\n",
      "\n",
      "\n",
      "\n"
     ]
    }
   ],
   "source": [
    "# Creating a list which holds the algorithms.\n",
    "\n",
    "model = []\n",
    "cvs = []\n",
    "STD = []\n",
    "\n",
    "for name,model in models:\n",
    "    k=model\n",
    "    print('--------',name,'--------')\n",
    "    r_state = max_r2_score(k, X, y)\n",
    "    print('\\n')\n",
    "    mR2 = cross_val_score(k,  X, y, cv=5, scoring = \"r2\").mean()\n",
    "    print('Cross validation score (Mean r2 score):', mR2)\n",
    "    cvs.append(mR2)\n",
    "    stdR2 = cross_val_score(k,  X, y, cv=5, scoring = \"r2\").std()\n",
    "    print('Standard Deviationin r2 score :', stdR2)\n",
    "    STD.append(stdR2)\n",
    "    print('\\n')\n",
    "    print('\\n')"
   ]
  },
  {
   "cell_type": "code",
   "execution_count": 54,
   "metadata": {},
   "outputs": [
    {
     "data": {
      "text/html": [
       "<div>\n",
       "<style scoped>\n",
       "    .dataframe tbody tr th:only-of-type {\n",
       "        vertical-align: middle;\n",
       "    }\n",
       "\n",
       "    .dataframe tbody tr th {\n",
       "        vertical-align: top;\n",
       "    }\n",
       "\n",
       "    .dataframe thead th {\n",
       "        text-align: right;\n",
       "    }\n",
       "</style>\n",
       "<table border=\"1\" class=\"dataframe\">\n",
       "  <thead>\n",
       "    <tr style=\"text-align: right;\">\n",
       "      <th></th>\n",
       "      <th>Model</th>\n",
       "      <th>R2 Socre</th>\n",
       "      <th>Cross val score</th>\n",
       "      <th>Mean Squared Error</th>\n",
       "      <th>Mean Absolute Error</th>\n",
       "      <th>Standard Deviation</th>\n",
       "    </tr>\n",
       "  </thead>\n",
       "  <tbody>\n",
       "    <tr>\n",
       "      <th>0</th>\n",
       "      <td>(LinearRegression, LinearRegression(copy_X=Tru...</td>\n",
       "      <td>0.344613</td>\n",
       "      <td>0.310182</td>\n",
       "      <td>2.203046</td>\n",
       "      <td>4.853410</td>\n",
       "      <td>0.011022</td>\n",
       "    </tr>\n",
       "    <tr>\n",
       "      <th>1</th>\n",
       "      <td>(Lasso, Lasso(alpha=1.0, copy_X=True, fit_inte...</td>\n",
       "      <td>0.298274</td>\n",
       "      <td>0.275317</td>\n",
       "      <td>2.231892</td>\n",
       "      <td>4.981340</td>\n",
       "      <td>0.010175</td>\n",
       "    </tr>\n",
       "    <tr>\n",
       "      <th>2</th>\n",
       "      <td>(Ridge, Ridge(alpha=1.0, copy_X=True, fit_inte...</td>\n",
       "      <td>0.344610</td>\n",
       "      <td>0.310182</td>\n",
       "      <td>2.203044</td>\n",
       "      <td>4.853405</td>\n",
       "      <td>0.011022</td>\n",
       "    </tr>\n",
       "    <tr>\n",
       "      <th>3</th>\n",
       "      <td>(SVR, SVR(C=1.0, cache_size=200, coef0=0.0, de...</td>\n",
       "      <td>0.421781</td>\n",
       "      <td>0.391937</td>\n",
       "      <td>2.102467</td>\n",
       "      <td>4.420366</td>\n",
       "      <td>0.010972</td>\n",
       "    </tr>\n",
       "    <tr>\n",
       "      <th>4</th>\n",
       "      <td>(DecisionTreeRegressor, DecisionTreeRegressor(...</td>\n",
       "      <td>0.450505</td>\n",
       "      <td>0.409480</td>\n",
       "      <td>2.146603</td>\n",
       "      <td>4.607906</td>\n",
       "      <td>0.023858</td>\n",
       "    </tr>\n",
       "    <tr>\n",
       "      <th>5</th>\n",
       "      <td>(KNeighborsRegressor, KNeighborsRegressor(algo...</td>\n",
       "      <td>0.446489</td>\n",
       "      <td>0.396880</td>\n",
       "      <td>2.100262</td>\n",
       "      <td>4.411100</td>\n",
       "      <td>0.012545</td>\n",
       "    </tr>\n",
       "    <tr>\n",
       "      <th>6</th>\n",
       "      <td>(RandomForestRegressor, (DecisionTreeRegressor...</td>\n",
       "      <td>0.717736</td>\n",
       "      <td>0.687548</td>\n",
       "      <td>1.818338</td>\n",
       "      <td>3.306352</td>\n",
       "      <td>0.015946</td>\n",
       "    </tr>\n",
       "    <tr>\n",
       "      <th>7</th>\n",
       "      <td>(AdaBoostRegressor, (DecisionTreeRegressor(ccp...</td>\n",
       "      <td>0.432761</td>\n",
       "      <td>0.351363</td>\n",
       "      <td>2.220027</td>\n",
       "      <td>4.928521</td>\n",
       "      <td>0.027584</td>\n",
       "    </tr>\n",
       "    <tr>\n",
       "      <th>8</th>\n",
       "      <td>(GradientBoostingRegressor, ([DecisionTreeRegr...</td>\n",
       "      <td>0.693266</td>\n",
       "      <td>0.665929</td>\n",
       "      <td>1.847346</td>\n",
       "      <td>3.412688</td>\n",
       "      <td>0.012043</td>\n",
       "    </tr>\n",
       "  </tbody>\n",
       "</table>\n",
       "</div>"
      ],
      "text/plain": [
       "                                               Model  R2 Socre  \\\n",
       "0  (LinearRegression, LinearRegression(copy_X=Tru...  0.344613   \n",
       "1  (Lasso, Lasso(alpha=1.0, copy_X=True, fit_inte...  0.298274   \n",
       "2  (Ridge, Ridge(alpha=1.0, copy_X=True, fit_inte...  0.344610   \n",
       "3  (SVR, SVR(C=1.0, cache_size=200, coef0=0.0, de...  0.421781   \n",
       "4  (DecisionTreeRegressor, DecisionTreeRegressor(...  0.450505   \n",
       "5  (KNeighborsRegressor, KNeighborsRegressor(algo...  0.446489   \n",
       "6  (RandomForestRegressor, (DecisionTreeRegressor...  0.717736   \n",
       "7  (AdaBoostRegressor, (DecisionTreeRegressor(ccp...  0.432761   \n",
       "8  (GradientBoostingRegressor, ([DecisionTreeRegr...  0.693266   \n",
       "\n",
       "   Cross val score  Mean Squared Error  Mean Absolute Error  \\\n",
       "0         0.310182            2.203046             4.853410   \n",
       "1         0.275317            2.231892             4.981340   \n",
       "2         0.310182            2.203044             4.853405   \n",
       "3         0.391937            2.102467             4.420366   \n",
       "4         0.409480            2.146603             4.607906   \n",
       "5         0.396880            2.100262             4.411100   \n",
       "6         0.687548            1.818338             3.306352   \n",
       "7         0.351363            2.220027             4.928521   \n",
       "8         0.665929            1.847346             3.412688   \n",
       "\n",
       "   Standard Deviation  \n",
       "0            0.011022  \n",
       "1            0.010175  \n",
       "2            0.011022  \n",
       "3            0.010972  \n",
       "4            0.023858  \n",
       "5            0.012545  \n",
       "6            0.015946  \n",
       "7            0.027584  \n",
       "8            0.012043  "
      ]
     },
     "execution_count": 54,
     "metadata": {},
     "output_type": "execute_result"
    }
   ],
   "source": [
    "result = pd.DataFrame({\"Model\": models, \"R2 Socre\": score, \"Cross val score\": cvs, \"Mean Squared Error\": MSE, \"Mean Absolute Error\": MAE, \"Standard Deviation\": STD})\n",
    "result"
   ]
  },
  {
   "cell_type": "markdown",
   "metadata": {},
   "source": [
    "RandomForestRegressor is selected as a model for this dataset as it is giving the best results out of all the algorithms tested, with the accuracy of 0.71 at 81."
   ]
  },
  {
   "cell_type": "code",
   "execution_count": 55,
   "metadata": {},
   "outputs": [
    {
     "data": {
      "text/plain": [
       "['food_cost.pkl']"
      ]
     },
     "execution_count": 55,
     "metadata": {},
     "output_type": "execute_result"
    }
   ],
   "source": [
    "# saving the model using joblib\n",
    "from sklearn.externals import joblib\n",
    "\n",
    "# Save the model as a pickle in a file\n",
    "joblib.dump(rfr, 'food_cost.pkl')"
   ]
  },
  {
   "cell_type": "code",
   "execution_count": null,
   "metadata": {},
   "outputs": [],
   "source": []
  }
 ],
 "metadata": {
  "kernelspec": {
   "display_name": "Python 3",
   "language": "python",
   "name": "python3"
  },
  "language_info": {
   "codemirror_mode": {
    "name": "ipython",
    "version": 3
   },
   "file_extension": ".py",
   "mimetype": "text/x-python",
   "name": "python",
   "nbconvert_exporter": "python",
   "pygments_lexer": "ipython3",
   "version": "3.7.6"
  }
 },
 "nbformat": 4,
 "nbformat_minor": 4
}
